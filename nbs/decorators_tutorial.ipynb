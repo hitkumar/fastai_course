{
 "cells": [
  {
   "cell_type": "code",
   "execution_count": 1,
   "metadata": {},
   "outputs": [],
   "source": [
    "# Following this https://realpython.com/primer-on-python-decorators/\n",
    "def decorator(func):\n",
    "    def wrapper():\n",
    "        print('Start')\n",
    "        func()\n",
    "        print('End')\n",
    "    return wrapper\n",
    "\n",
    "def say_whee():\n",
    "    print('Whee')\n",
    "\n",
    "saw_whee = decorator(say_whee)"
   ]
  },
  {
   "cell_type": "code",
   "execution_count": 2,
   "metadata": {},
   "outputs": [
    {
     "data": {
      "text/plain": [
       "<function __main__.say_whee()>"
      ]
     },
     "execution_count": 2,
     "metadata": {},
     "output_type": "execute_result"
    }
   ],
   "source": [
    "say_whee"
   ]
  },
  {
   "cell_type": "code",
   "execution_count": 3,
   "metadata": {},
   "outputs": [
    {
     "name": "stdout",
     "output_type": "stream",
     "text": [
      "Whee\n"
     ]
    }
   ],
   "source": [
    "say_whee()"
   ]
  },
  {
   "cell_type": "code",
   "execution_count": 4,
   "metadata": {},
   "outputs": [
    {
     "name": "stdout",
     "output_type": "stream",
     "text": [
      "Start\n",
      "Whee\n",
      "End\n"
     ]
    },
    {
     "data": {
      "text/plain": [
       "(None, <function __main__.decorator.<locals>.wrapper()>)"
      ]
     },
     "execution_count": 4,
     "metadata": {},
     "output_type": "execute_result"
    }
   ],
   "source": [
    "saw_whee(), saw_whee"
   ]
  },
  {
   "cell_type": "code",
   "execution_count": 5,
   "metadata": {},
   "outputs": [],
   "source": [
    "@decorator\n",
    "def say_hello():\n",
    "    print('Hello')"
   ]
  },
  {
   "cell_type": "code",
   "execution_count": 6,
   "metadata": {},
   "outputs": [
    {
     "name": "stdout",
     "output_type": "stream",
     "text": [
      "Start\n",
      "Hello\n",
      "End\n"
     ]
    }
   ],
   "source": [
    "say_hello()"
   ]
  },
  {
   "cell_type": "code",
   "execution_count": 7,
   "metadata": {},
   "outputs": [],
   "source": [
    "class Decorator:\n",
    "    def __init__(self, func) -> None:\n",
    "        self.func = func\n",
    "    def __call__(self):\n",
    "        print('Start1')\n",
    "        self.func()\n",
    "        print('End')"
   ]
  },
  {
   "cell_type": "code",
   "execution_count": 8,
   "metadata": {},
   "outputs": [],
   "source": [
    "@Decorator\n",
    "def say_hello_class():\n",
    "    print('Hello class')"
   ]
  },
  {
   "cell_type": "code",
   "execution_count": 9,
   "metadata": {},
   "outputs": [
    {
     "name": "stdout",
     "output_type": "stream",
     "text": [
      "Start1\n",
      "Hello class\n",
      "End\n"
     ]
    }
   ],
   "source": [
    "say_hello_class()"
   ]
  },
  {
   "cell_type": "code",
   "execution_count": 33,
   "metadata": {},
   "outputs": [],
   "source": [
    "class DecoratorWithFuncArgs:\n",
    "    def __init__(self) -> None:\n",
    "        pass\n",
    "    def __call__(self, f):\n",
    "        def _f(*args, **kwargs):\n",
    "            Learner.callback()\n",
    "            f(*args, **kwargs)\n",
    "            Learner.callback()\n",
    "        return _f"
   ]
  },
  {
   "cell_type": "code",
   "execution_count": 23,
   "metadata": {},
   "outputs": [],
   "source": [
    "@DecoratorWithFuncArgs()\n",
    "def say_hello_class_func_args():\n",
    "    print('Hello class func args')"
   ]
  },
  {
   "cell_type": "code",
   "execution_count": 24,
   "metadata": {},
   "outputs": [
    {
     "ename": "TypeError",
     "evalue": "DecoratorWithFuncArgs.__call__.<locals>._f() missing 1 required positional argument: 'o'",
     "output_type": "error",
     "traceback": [
      "\u001b[0;31m---------------------------------------------------------------------------\u001b[0m",
      "\u001b[0;31mTypeError\u001b[0m                                 Traceback (most recent call last)",
      "Cell \u001b[0;32mIn[24], line 1\u001b[0m\n\u001b[0;32m----> 1\u001b[0m \u001b[43msay_hello_class_func_args\u001b[49m\u001b[43m(\u001b[49m\u001b[43m)\u001b[49m\n",
      "\u001b[0;31mTypeError\u001b[0m: DecoratorWithFuncArgs.__call__.<locals>._f() missing 1 required positional argument: 'o'"
     ]
    }
   ],
   "source": [
    "say_hello_class_func_args()"
   ]
  },
  {
   "cell_type": "code",
   "execution_count": 36,
   "metadata": {},
   "outputs": [],
   "source": [
    "class Learner:\n",
    "    @DecoratorWithFuncArgs()\n",
    "    def say_hello(self):\n",
    "        print('Hello class func args')\n",
    "    \n",
    "    @classmethod\n",
    "    def callback(cls):\n",
    "        print('callback')"
   ]
  },
  {
   "cell_type": "code",
   "execution_count": 37,
   "metadata": {},
   "outputs": [
    {
     "name": "stdout",
     "output_type": "stream",
     "text": [
      "callback\n",
      "Hello class func args\n",
      "callback\n"
     ]
    }
   ],
   "source": [
    "l = Learner()\n",
    "l.say_hello()"
   ]
  },
  {
   "cell_type": "code",
   "execution_count": null,
   "metadata": {},
   "outputs": [],
   "source": []
  }
 ],
 "metadata": {
  "kernelspec": {
   "display_name": "fastai",
   "language": "python",
   "name": "python3"
  },
  "language_info": {
   "codemirror_mode": {
    "name": "ipython",
    "version": 3
   },
   "file_extension": ".py",
   "mimetype": "text/x-python",
   "name": "python",
   "nbconvert_exporter": "python",
   "pygments_lexer": "ipython3",
   "version": "3.10.14"
  }
 },
 "nbformat": 4,
 "nbformat_minor": 2
}
