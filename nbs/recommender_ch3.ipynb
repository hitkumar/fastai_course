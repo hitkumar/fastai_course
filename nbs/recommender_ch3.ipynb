{
 "cells": [
  {
   "cell_type": "code",
   "execution_count": 6,
   "metadata": {},
   "outputs": [],
   "source": [
    "from jax import random\n",
    "from typing import Optional, Dict, List"
   ]
  },
  {
   "cell_type": "code",
   "execution_count": 4,
   "metadata": {},
   "outputs": [],
   "source": [
    "key = random.PRNGKey(0)"
   ]
  },
  {
   "cell_type": "code",
   "execution_count": 5,
   "metadata": {},
   "outputs": [],
   "source": [
    "def get_item_popularities() -> Optional[Dict[str, int]]:\n",
    "    return None"
   ]
  },
  {
   "cell_type": "code",
   "execution_count": 7,
   "metadata": {},
   "outputs": [],
   "source": [
    "def get_most_popular_recs_ep_greedy(\n",
    "        max_num_recs: int,\n",
    "        epsilon: float\n",
    ") -> Optional[List[str]]:\n",
    "    assert epsilon < 1.0 and epsilon > 0.0\n",
    "    item_pop_dict = get_item_popularities()\n",
    "    if item_pop_dict:\n",
    "        item_pop_dict_sorted = sorted(\n",
    "            item_pop_dict,\n",
    "            key=lambda item: item[1],\n",
    "            reverse=True\n",
    "        )\n",
    "        top_items = [i[0] for i in item_pop_dict_sorted]\n",
    "        res = []\n",
    "        for i in range(max_num_recs):\n",
    "            if random.uniform(key) > epsilon:  # eploit\n",
    "                res.append(top_items.pop(0))\n",
    "            else: # explore\n",
    "                explore_choice = random.randint(1, len(top_items))\n",
    "                res.append(top_items.pop(explore_choice))\n",
    "        \n",
    "        return res\n"
   ]
  },
  {
   "cell_type": "code",
   "execution_count": null,
   "metadata": {},
   "outputs": [],
   "source": []
  }
 ],
 "metadata": {
  "kernelspec": {
   "display_name": "base",
   "language": "python",
   "name": "python3"
  },
  "language_info": {
   "codemirror_mode": {
    "name": "ipython",
    "version": 3
   },
   "file_extension": ".py",
   "mimetype": "text/x-python",
   "name": "python",
   "nbconvert_exporter": "python",
   "pygments_lexer": "ipython3",
   "version": "3.10.9"
  }
 },
 "nbformat": 4,
 "nbformat_minor": 2
}
