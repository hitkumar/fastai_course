{
 "cells": [
  {
   "cell_type": "code",
   "execution_count": 1,
   "id": "eb34b4bc",
   "metadata": {},
   "outputs": [],
   "source": [
    "#| default_exp training"
   ]
  },
  {
   "cell_type": "code",
   "execution_count": 2,
   "id": "61a617dd",
   "metadata": {},
   "outputs": [],
   "source": [
    "#|export\n",
    "import pickle,gzip,math,os,time,shutil,torch,matplotlib as mpl,numpy as np,matplotlib.pyplot as plt\n",
    "from pathlib import Path\n",
    "from torch import tensor,nn\n",
    "import torch.nn.functional as F"
   ]
  },
  {
   "cell_type": "code",
   "execution_count": 3,
   "id": "6cb69163",
   "metadata": {},
   "outputs": [],
   "source": [
    "from fastcore.test import test_close\n",
    "\n",
    "torch.set_printoptions(precision=2, linewidth=140, sci_mode=False)\n",
    "torch.manual_seed(1)\n",
    "mpl.rcParams['image.cmap'] = 'gray'\n",
    "\n",
    "path_data = Path('data')\n",
    "path_gz = path_data/'mnist.pkl.gz'\n",
    "with gzip.open(path_gz, 'rb') as f: ((x_train, y_train), (x_valid, y_valid), _) = pickle.load(f, encoding='latin-1')\n",
    "x_train, y_train, x_valid, y_valid = map(tensor, [x_train, y_train, x_valid, y_valid])"
   ]
  },
  {
   "cell_type": "code",
   "execution_count": 4,
   "id": "5b346b9e",
   "metadata": {},
   "outputs": [],
   "source": [
    "torch.set_printoptions(precision=2, linewidth=125, sci_mode=False)\n",
    "np.set_printoptions(precision=2, linewidth=125)"
   ]
  },
  {
   "cell_type": "code",
   "execution_count": 5,
   "id": "519d5b64",
   "metadata": {},
   "outputs": [],
   "source": [
    "torch.set_printoptions(precision=2, linewidth=125, sci_mode=False)\n",
    "np.set_printoptions(precision=2, linewidth=125)"
   ]
  },
  {
   "cell_type": "code",
   "execution_count": 6,
   "id": "5fbf72b4",
   "metadata": {},
   "outputs": [
    {
     "data": {
      "text/html": [
       "<style>.container { width:100% !important; }</style>"
      ],
      "text/plain": [
       "<IPython.core.display.HTML object>"
      ]
     },
     "metadata": {},
     "output_type": "display_data"
    }
   ],
   "source": [
    "# go full width\n",
    "from IPython.display import display, HTML\n",
    "display(HTML(\"<style>.container { width:100% !important; }</style>\"))"
   ]
  },
  {
   "cell_type": "code",
   "execution_count": 7,
   "id": "bcbead2f",
   "metadata": {},
   "outputs": [
    {
     "data": {
      "text/plain": [
       "torch.Size([50000, 784])"
      ]
     },
     "execution_count": 7,
     "metadata": {},
     "output_type": "execute_result"
    }
   ],
   "source": [
    "x_train.shape"
   ]
  },
  {
   "cell_type": "markdown",
   "id": "8c82e61f",
   "metadata": {},
   "source": [
    "### Initial setup"
   ]
  },
  {
   "cell_type": "code",
   "execution_count": 8,
   "id": "d98f9c2c",
   "metadata": {},
   "outputs": [],
   "source": [
    "n,m = x_train.shape\n",
    "c = y_train.max() + 1\n",
    "mh = 50"
   ]
  },
  {
   "cell_type": "code",
   "execution_count": 9,
   "id": "bc1ace60",
   "metadata": {},
   "outputs": [],
   "source": [
    "class Model(nn.Module):\n",
    "    def __init__(self, n_in, nh, n_out):\n",
    "        super().__init__()\n",
    "        self.layers = [nn.Linear(n_in, nh), nn.ReLU(), nn.Linear(nh, n_out)]\n",
    "    \n",
    "    def __call__(self, x):\n",
    "        for l in self.layers: x = l(x)\n",
    "        return x"
   ]
  },
  {
   "cell_type": "code",
   "execution_count": 10,
   "id": "4fc581eb",
   "metadata": {},
   "outputs": [
    {
     "data": {
      "text/plain": [
       "torch.Size([50000, 10])"
      ]
     },
     "execution_count": 10,
     "metadata": {},
     "output_type": "execute_result"
    }
   ],
   "source": [
    "model = Model(m, mh, 10)\n",
    "pred = model(x_train)\n",
    "pred.shape"
   ]
  },
  {
   "cell_type": "markdown",
   "id": "8246773d",
   "metadata": {},
   "source": [
    "### Cross Entropy loss"
   ]
  },
  {
   "cell_type": "code",
   "execution_count": 11,
   "id": "7d5bbd7e",
   "metadata": {},
   "outputs": [
    {
     "data": {
      "text/plain": [
       "torch.Size([50000, 1])"
      ]
     },
     "execution_count": 11,
     "metadata": {},
     "output_type": "execute_result"
    }
   ],
   "source": [
    "pred.exp().sum(-1, keepdim=True).shape"
   ]
  },
  {
   "cell_type": "code",
   "execution_count": null,
   "id": "0ca251a9",
   "metadata": {},
   "outputs": [],
   "source": []
  },
  {
   "cell_type": "code",
   "execution_count": 12,
   "id": "a5cf4ff4",
   "metadata": {},
   "outputs": [],
   "source": [
    "def log_softmax(x):\n",
    "    return (x.exp() / (x.exp().sum(-1, keepdim=True))).log()"
   ]
  },
  {
   "cell_type": "code",
   "execution_count": 13,
   "id": "5e533408",
   "metadata": {},
   "outputs": [
    {
     "data": {
      "text/plain": [
       "tensor([[-2.37, -2.49, -2.36,  ..., -2.31, -2.28, -2.22],\n",
       "        [-2.37, -2.44, -2.44,  ..., -2.27, -2.26, -2.16],\n",
       "        [-2.48, -2.33, -2.28,  ..., -2.30, -2.30, -2.27],\n",
       "        ...,\n",
       "        [-2.33, -2.52, -2.34,  ..., -2.31, -2.21, -2.16],\n",
       "        [-2.38, -2.38, -2.33,  ..., -2.29, -2.26, -2.17],\n",
       "        [-2.33, -2.55, -2.36,  ..., -2.29, -2.27, -2.16]], grad_fn=<LogBackward0>)"
      ]
     },
     "execution_count": 13,
     "metadata": {},
     "output_type": "execute_result"
    }
   ],
   "source": [
    "log_softmax(pred)"
   ]
  },
  {
   "cell_type": "code",
   "execution_count": 14,
   "id": "8e5672f5",
   "metadata": {},
   "outputs": [],
   "source": [
    "def log_softmax(x):\n",
    "    return x - x.exp().sum(-1, keepdim=True).log()"
   ]
  },
  {
   "cell_type": "code",
   "execution_count": 15,
   "id": "4bf41657",
   "metadata": {},
   "outputs": [],
   "source": [
    "a = log_softmax(pred)"
   ]
  },
  {
   "cell_type": "code",
   "execution_count": 16,
   "id": "bcc49ea2",
   "metadata": {},
   "outputs": [
    {
     "data": {
      "text/plain": [
       "torch.Size([50000, 1])"
      ]
     },
     "execution_count": 16,
     "metadata": {},
     "output_type": "execute_result"
    }
   ],
   "source": [
    "pred.max(dim=1, keepdim=True).values.shape"
   ]
  },
  {
   "cell_type": "code",
   "execution_count": 17,
   "id": "f491ba43",
   "metadata": {},
   "outputs": [],
   "source": [
    "def log_softmax(x):\n",
    "    max_e = (x - x.max(dim=1, keepdim=True).values)\n",
    "    return max_e - max_e.exp().sum(-1, keepdim=True).log()"
   ]
  },
  {
   "cell_type": "code",
   "execution_count": 18,
   "id": "6475f8b5",
   "metadata": {},
   "outputs": [],
   "source": [
    "b = log_softmax(pred)"
   ]
  },
  {
   "cell_type": "code",
   "execution_count": 19,
   "id": "5832dbb0",
   "metadata": {},
   "outputs": [
    {
     "data": {
      "text/plain": [
       "(torch.Size([50000, 10]), torch.Size([50000, 10]))"
      ]
     },
     "execution_count": 19,
     "metadata": {},
     "output_type": "execute_result"
    }
   ],
   "source": [
    "b.shape, a.shape"
   ]
  },
  {
   "cell_type": "code",
   "execution_count": 20,
   "id": "0da4a38e",
   "metadata": {},
   "outputs": [
    {
     "data": {
      "text/plain": [
       "tensor([[-2.37, -2.49, -2.36,  ..., -2.31, -2.28, -2.22],\n",
       "        [-2.37, -2.44, -2.44,  ..., -2.27, -2.26, -2.16],\n",
       "        [-2.48, -2.33, -2.28,  ..., -2.30, -2.30, -2.27],\n",
       "        ...,\n",
       "        [-2.33, -2.52, -2.34,  ..., -2.31, -2.21, -2.16],\n",
       "        [-2.38, -2.38, -2.33,  ..., -2.29, -2.26, -2.17],\n",
       "        [-2.33, -2.55, -2.36,  ..., -2.29, -2.27, -2.16]], grad_fn=<SubBackward0>)"
      ]
     },
     "execution_count": 20,
     "metadata": {},
     "output_type": "execute_result"
    }
   ],
   "source": [
    "a"
   ]
  },
  {
   "cell_type": "code",
   "execution_count": 21,
   "id": "726e7bcd",
   "metadata": {},
   "outputs": [
    {
     "data": {
      "text/plain": [
       "tensor([[-2.37, -2.49, -2.36,  ..., -2.31, -2.28, -2.22],\n",
       "        [-2.37, -2.44, -2.44,  ..., -2.27, -2.26, -2.16],\n",
       "        [-2.48, -2.33, -2.28,  ..., -2.30, -2.30, -2.27],\n",
       "        ...,\n",
       "        [-2.33, -2.52, -2.34,  ..., -2.31, -2.21, -2.16],\n",
       "        [-2.38, -2.38, -2.33,  ..., -2.29, -2.26, -2.17],\n",
       "        [-2.33, -2.55, -2.36,  ..., -2.29, -2.27, -2.16]], grad_fn=<SubBackward0>)"
      ]
     },
     "execution_count": 21,
     "metadata": {},
     "output_type": "execute_result"
    }
   ],
   "source": [
    "b"
   ]
  },
  {
   "cell_type": "code",
   "execution_count": 22,
   "id": "9a36d340",
   "metadata": {},
   "outputs": [],
   "source": [
    "test_close(a, b)"
   ]
  },
  {
   "cell_type": "code",
   "execution_count": 23,
   "id": "5ae3dc79",
   "metadata": {},
   "outputs": [],
   "source": [
    "sm_pred = log_softmax(pred)"
   ]
  },
  {
   "cell_type": "code",
   "execution_count": 24,
   "id": "fcdb374c",
   "metadata": {},
   "outputs": [
    {
     "data": {
      "text/plain": [
       "tensor([[-2.37, -2.49, -2.36,  ..., -2.31, -2.28, -2.22],\n",
       "        [-2.37, -2.44, -2.44,  ..., -2.27, -2.26, -2.16],\n",
       "        [-2.48, -2.33, -2.28,  ..., -2.30, -2.30, -2.27],\n",
       "        ...,\n",
       "        [-2.33, -2.52, -2.34,  ..., -2.31, -2.21, -2.16],\n",
       "        [-2.38, -2.38, -2.33,  ..., -2.29, -2.26, -2.17],\n",
       "        [-2.33, -2.55, -2.36,  ..., -2.29, -2.27, -2.16]], grad_fn=<SubBackward0>)"
      ]
     },
     "execution_count": 24,
     "metadata": {},
     "output_type": "execute_result"
    }
   ],
   "source": [
    "sm_pred"
   ]
  },
  {
   "cell_type": "code",
   "execution_count": 25,
   "id": "2c317334",
   "metadata": {},
   "outputs": [
    {
     "data": {
      "text/plain": [
       "tensor([5, 0, 4, 1, 9, 2, 1, 3, 1, 4])"
      ]
     },
     "execution_count": 25,
     "metadata": {},
     "output_type": "execute_result"
    }
   ],
   "source": [
    "y_train[:10]"
   ]
  },
  {
   "cell_type": "code",
   "execution_count": 26,
   "id": "36d9a06b",
   "metadata": {},
   "outputs": [
    {
     "data": {
      "text/plain": [
       "(tensor(-2.49, grad_fn=<SelectBackward0>),\n",
       " tensor(-2.37, grad_fn=<SelectBackward0>),\n",
       " tensor(-2.36, grad_fn=<SelectBackward0>))"
      ]
     },
     "execution_count": 26,
     "metadata": {},
     "output_type": "execute_result"
    }
   ],
   "source": [
    "sm_pred[0,1], sm_pred[1,0], sm_pred[2,4]"
   ]
  },
  {
   "cell_type": "code",
   "execution_count": 27,
   "id": "902f65b3",
   "metadata": {},
   "outputs": [
    {
     "data": {
      "text/plain": [
       "tensor([-2.20, -2.37, -2.36], grad_fn=<IndexBackward0>)"
      ]
     },
     "execution_count": 27,
     "metadata": {},
     "output_type": "execute_result"
    }
   ],
   "source": [
    "sm_pred[[0,1,2], y_train[:3]]"
   ]
  },
  {
   "cell_type": "code",
   "execution_count": 28,
   "id": "2e303d2f",
   "metadata": {},
   "outputs": [],
   "source": [
    "def nll(input, target):\n",
    "    return -input[range(target.shape[0]), target].mean()"
   ]
  },
  {
   "cell_type": "code",
   "execution_count": 29,
   "id": "6ba0befa",
   "metadata": {},
   "outputs": [
    {
     "data": {
      "text/plain": [
       "tensor(2.30, grad_fn=<NegBackward0>)"
      ]
     },
     "execution_count": 29,
     "metadata": {},
     "output_type": "execute_result"
    }
   ],
   "source": [
    "loss = nll(sm_pred, y_train)\n",
    "loss"
   ]
  },
  {
   "cell_type": "code",
   "execution_count": 30,
   "id": "19ca58cf",
   "metadata": {},
   "outputs": [],
   "source": [
    "test_close(F.nll_loss(F.log_softmax(pred, -1), y_train), loss, 1e-3)"
   ]
  },
  {
   "cell_type": "code",
   "execution_count": 31,
   "id": "907e007f",
   "metadata": {},
   "outputs": [],
   "source": [
    "F.softmax??"
   ]
  },
  {
   "cell_type": "code",
   "execution_count": 32,
   "id": "c2c83486",
   "metadata": {},
   "outputs": [],
   "source": [
    "test_close(F.cross_entropy(pred, y_train), loss, 1e-3)"
   ]
  },
  {
   "cell_type": "code",
   "execution_count": 33,
   "id": "c388d2ef",
   "metadata": {},
   "outputs": [],
   "source": [
    "test_close(F.nll_loss(F.log_softmax(pred, -1), y_train), F.cross_entropy(pred, y_train), 1e-3)"
   ]
  },
  {
   "cell_type": "markdown",
   "id": "f00bf920",
   "metadata": {},
   "source": [
    "log_softmax and nll_loss are combined in one function F.cross_entropy"
   ]
  },
  {
   "cell_type": "markdown",
   "id": "9fcc1f03",
   "metadata": {},
   "source": [
    "## Basic training loop"
   ]
  },
  {
   "cell_type": "code",
   "execution_count": 34,
   "id": "94610a3e",
   "metadata": {},
   "outputs": [],
   "source": [
    "loss_func = F.cross_entropy"
   ]
  },
  {
   "cell_type": "code",
   "execution_count": 35,
   "id": "2be85823",
   "metadata": {},
   "outputs": [
    {
     "data": {
      "text/plain": [
       "torch.Size([50, 10])"
      ]
     },
     "execution_count": 35,
     "metadata": {},
     "output_type": "execute_result"
    }
   ],
   "source": [
    "bs = 50\n",
    "xb = x_train[:bs]\n",
    "preds = model(xb)\n",
    "preds.shape"
   ]
  },
  {
   "cell_type": "code",
   "execution_count": 36,
   "id": "1eb08e62",
   "metadata": {},
   "outputs": [],
   "source": [
    "yb = y_train[:bs]"
   ]
  },
  {
   "cell_type": "code",
   "execution_count": 37,
   "id": "dd5aa0bb",
   "metadata": {},
   "outputs": [
    {
     "data": {
      "text/plain": [
       "tensor(2.30, grad_fn=<NllLossBackward0>)"
      ]
     },
     "execution_count": 37,
     "metadata": {},
     "output_type": "execute_result"
    }
   ],
   "source": [
    "loss_func(preds, yb)"
   ]
  },
  {
   "cell_type": "code",
   "execution_count": 38,
   "id": "3bc706ee",
   "metadata": {},
   "outputs": [],
   "source": [
    "# preds"
   ]
  },
  {
   "cell_type": "code",
   "execution_count": 39,
   "id": "4480d355",
   "metadata": {},
   "outputs": [
    {
     "data": {
      "text/plain": [
       "tensor([3, 9, 3, 8, 5, 9, 3, 9, 3, 9, 5, 3, 9, 9, 3, 9, 9, 5, 8, 7, 9, 5, 3, 8, 9, 5, 9, 5, 5, 9, 3, 5, 9, 7, 5, 7, 9, 9, 3,\n",
       "        9, 3, 5, 3, 8, 3, 5, 9, 5, 9, 5])"
      ]
     },
     "execution_count": 39,
     "metadata": {},
     "output_type": "execute_result"
    }
   ],
   "source": [
    "preds.argmax(dim=1)"
   ]
  },
  {
   "cell_type": "code",
   "execution_count": 40,
   "id": "6f0b6808",
   "metadata": {},
   "outputs": [],
   "source": [
    "#| export\n",
    "def accuracy(out, yb): return (out.argmax(dim=1) == yb).float().mean()"
   ]
  },
  {
   "cell_type": "code",
   "execution_count": 41,
   "id": "1b1c805a",
   "metadata": {},
   "outputs": [
    {
     "data": {
      "text/plain": [
       "tensor(0.08)"
      ]
     },
     "execution_count": 41,
     "metadata": {},
     "output_type": "execute_result"
    }
   ],
   "source": [
    "accuracy(preds, yb)"
   ]
  },
  {
   "cell_type": "code",
   "execution_count": 42,
   "id": "0f52b3f9",
   "metadata": {},
   "outputs": [],
   "source": [
    "lr = 0.5\n",
    "epochs = 3"
   ]
  },
  {
   "cell_type": "code",
   "execution_count": 43,
   "id": "b87082c9",
   "metadata": {},
   "outputs": [],
   "source": [
    "#| export\n",
    "def report(loss, preds, yb):\n",
    "    print(f'{loss:.2f}, {accuracy(preds, yb):.2f}')"
   ]
  },
  {
   "cell_type": "code",
   "execution_count": 44,
   "id": "2b8469d9",
   "metadata": {},
   "outputs": [
    {
     "name": "stdout",
     "output_type": "stream",
     "text": [
      "2.30, 0.08\n"
     ]
    }
   ],
   "source": [
    "xb,yb = x_train[:bs],y_train[:bs]\n",
    "preds = model(xb)\n",
    "report(loss_func(preds, yb), preds, yb)"
   ]
  },
  {
   "cell_type": "code",
   "execution_count": 45,
   "id": "82a3ca24",
   "metadata": {},
   "outputs": [],
   "source": [
    "a = [1, 2, 3, 4, 5, 6]"
   ]
  },
  {
   "cell_type": "code",
   "execution_count": 46,
   "id": "45ed5dd8",
   "metadata": {},
   "outputs": [],
   "source": [
    "i = iter(a)"
   ]
  },
  {
   "cell_type": "code",
   "execution_count": 47,
   "id": "a53c2ceb",
   "metadata": {},
   "outputs": [],
   "source": [
    "s = slice(0, 50)"
   ]
  },
  {
   "cell_type": "code",
   "execution_count": 48,
   "id": "0f343f1b",
   "metadata": {},
   "outputs": [
    {
     "data": {
      "text/plain": [
       "slice(0, 50, None)"
      ]
     },
     "execution_count": 48,
     "metadata": {},
     "output_type": "execute_result"
    }
   ],
   "source": [
    "s"
   ]
  },
  {
   "cell_type": "code",
   "execution_count": 49,
   "id": "459d5261",
   "metadata": {},
   "outputs": [
    {
     "data": {
      "text/plain": [
       "tensor([[0., 0., 0.,  ..., 0., 0., 0.],\n",
       "        [0., 0., 0.,  ..., 0., 0., 0.],\n",
       "        [0., 0., 0.,  ..., 0., 0., 0.],\n",
       "        ...,\n",
       "        [0., 0., 0.,  ..., 0., 0., 0.],\n",
       "        [0., 0., 0.,  ..., 0., 0., 0.],\n",
       "        [0., 0., 0.,  ..., 0., 0., 0.]])"
      ]
     },
     "execution_count": 49,
     "metadata": {},
     "output_type": "execute_result"
    }
   ],
   "source": [
    "x_train[s]"
   ]
  },
  {
   "cell_type": "code",
   "execution_count": 50,
   "id": "4eecda11",
   "metadata": {},
   "outputs": [
    {
     "name": "stdout",
     "output_type": "stream",
     "text": [
      "('a', 'd', 'g')\n"
     ]
    }
   ],
   "source": [
    "#| export\n",
    "# slice example\n",
    "a = (\"a\", \"b\", \"c\", \"d\", \"e\", \"f\", \"g\", \"h\")\n",
    "x = slice(0, 8, 3)\n",
    "print(a[x])"
   ]
  },
  {
   "cell_type": "code",
   "execution_count": 51,
   "id": "0f8f50f8",
   "metadata": {},
   "outputs": [
    {
     "data": {
      "text/plain": [
       "[1, 2, 3, 4]"
      ]
     },
     "execution_count": 51,
     "metadata": {},
     "output_type": "execute_result"
    }
   ],
   "source": [
    "list(range(1, 5, 1))"
   ]
  },
  {
   "cell_type": "code",
   "execution_count": 52,
   "id": "377ad9a0",
   "metadata": {},
   "outputs": [
    {
     "name": "stdout",
     "output_type": "stream",
     "text": [
      "Linear(in_features=784, out_features=50, bias=True)\n",
      "Linear(in_features=50, out_features=10, bias=True)\n"
     ]
    }
   ],
   "source": [
    "for l in model.layers:\n",
    "    if hasattr(l, 'weight'):\n",
    "        print(l)"
   ]
  },
  {
   "cell_type": "code",
   "execution_count": 53,
   "id": "45a477e5",
   "metadata": {},
   "outputs": [
    {
     "name": "stdout",
     "output_type": "stream",
     "text": [
      "0.12, 0.98\n",
      "0.12, 0.94\n",
      "0.08, 0.96\n"
     ]
    }
   ],
   "source": [
    "for epoch in range(epochs):\n",
    "    for i in range(0, n, bs):\n",
    "        s = slice(i, min(i+bs,n))\n",
    "        xb,yb = x_train[s],y_train[s]\n",
    "        preds = model(xb)\n",
    "        loss = loss_func(preds, yb)\n",
    "        loss.backward()\n",
    "        with torch.no_grad():\n",
    "            for l in model.layers:\n",
    "                if hasattr(l, 'weight'):\n",
    "                    l.weight -= l.weight.grad * lr\n",
    "                    l.bias -= l.bias.grad * lr\n",
    "                    l.weight.grad.zero_()\n",
    "                    l.bias.grad.zero_()\n",
    "    report(loss, preds, yb)"
   ]
  },
  {
   "cell_type": "markdown",
   "id": "27a25d26",
   "metadata": {},
   "source": [
    "#### Using parameters and optim"
   ]
  },
  {
   "cell_type": "code",
   "execution_count": 54,
   "id": "af882a26",
   "metadata": {},
   "outputs": [],
   "source": [
    "m1 = nn.Module()"
   ]
  },
  {
   "cell_type": "code",
   "execution_count": 55,
   "id": "b5bab7d5",
   "metadata": {},
   "outputs": [
    {
     "data": {
      "text/plain": [
       "Module(\n",
       "  (foo): Linear(in_features=3, out_features=4, bias=True)\n",
       ")"
      ]
     },
     "execution_count": 55,
     "metadata": {},
     "output_type": "execute_result"
    }
   ],
   "source": [
    "m1.foo = nn.Linear(3,4)\n",
    "m1"
   ]
  },
  {
   "cell_type": "code",
   "execution_count": 56,
   "id": "2e767378",
   "metadata": {},
   "outputs": [
    {
     "data": {
      "text/plain": [
       "[('foo', Linear(in_features=3, out_features=4, bias=True))]"
      ]
     },
     "execution_count": 56,
     "metadata": {},
     "output_type": "execute_result"
    }
   ],
   "source": [
    "list(m1.named_children())"
   ]
  },
  {
   "cell_type": "code",
   "execution_count": 57,
   "id": "df4f91f8",
   "metadata": {},
   "outputs": [
    {
     "data": {
      "text/plain": [
       "[Parameter containing:\n",
       " tensor([[ 0.57,  0.43, -0.30],\n",
       "         [ 0.13, -0.32, -0.24],\n",
       "         [ 0.51,  0.04,  0.22],\n",
       "         [ 0.13, -0.17, -0.24]], requires_grad=True),\n",
       " Parameter containing:\n",
       " tensor([-0.01, -0.51, -0.39,  0.56], requires_grad=True)]"
      ]
     },
     "execution_count": 57,
     "metadata": {},
     "output_type": "execute_result"
    }
   ],
   "source": [
    "list(m1.parameters())"
   ]
  },
  {
   "cell_type": "code",
   "execution_count": 58,
   "id": "1bc04de7",
   "metadata": {},
   "outputs": [],
   "source": [
    "m1.named_children??"
   ]
  },
  {
   "cell_type": "code",
   "execution_count": 59,
   "id": "75f74961",
   "metadata": {},
   "outputs": [],
   "source": [
    "class MLP(nn.Module):\n",
    "    def __init__(self, n_in, nh, n_out):\n",
    "        super().__init__()\n",
    "        self.l1 = nn.Linear(n_in, nh)\n",
    "        self.l2 = nn.Linear(nh, n_out)\n",
    "        self.relu = nn.ReLU()\n",
    "    \n",
    "    def forward(self, x):\n",
    "        return self.l2(self.relu(self.l1(x)))"
   ]
  },
  {
   "cell_type": "code",
   "execution_count": 60,
   "id": "b4f6ad6f",
   "metadata": {},
   "outputs": [
    {
     "data": {
      "text/plain": [
       "Linear(in_features=784, out_features=50, bias=True)"
      ]
     },
     "execution_count": 60,
     "metadata": {},
     "output_type": "execute_result"
    }
   ],
   "source": [
    "model = MLP(m, mh, 10)\n",
    "model.l1"
   ]
  },
  {
   "cell_type": "code",
   "execution_count": 61,
   "id": "fe0b5b92",
   "metadata": {},
   "outputs": [
    {
     "data": {
      "text/plain": [
       "MLP(\n",
       "  (l1): Linear(in_features=784, out_features=50, bias=True)\n",
       "  (l2): Linear(in_features=50, out_features=10, bias=True)\n",
       "  (relu): ReLU()\n",
       ")"
      ]
     },
     "execution_count": 61,
     "metadata": {},
     "output_type": "execute_result"
    }
   ],
   "source": [
    "model"
   ]
  },
  {
   "cell_type": "code",
   "execution_count": 62,
   "id": "5b92c956",
   "metadata": {},
   "outputs": [
    {
     "name": "stdout",
     "output_type": "stream",
     "text": [
      "torch.Size([50, 784])\n",
      "torch.Size([50])\n",
      "torch.Size([10, 50])\n",
      "torch.Size([10])\n"
     ]
    }
   ],
   "source": [
    "for p in model.parameters():\n",
    "    print(p.shape)"
   ]
  },
  {
   "cell_type": "code",
   "execution_count": 63,
   "id": "5b4ea5d6",
   "metadata": {},
   "outputs": [
    {
     "data": {
      "text/plain": [
       "[0, 1, 2, 3, 4]"
      ]
     },
     "execution_count": 63,
     "metadata": {},
     "output_type": "execute_result"
    }
   ],
   "source": [
    "s = slice(0, 5)\n",
    "x = list(range(10))\n",
    "x[s]"
   ]
  },
  {
   "cell_type": "code",
   "execution_count": 64,
   "id": "a1861c4f",
   "metadata": {},
   "outputs": [],
   "source": [
    "def fit():\n",
    "    for epoch in range(epochs):\n",
    "        for i in range(0, n, bs):\n",
    "            s = slice(i, min(n,i+bs))\n",
    "            xb,yb = x_train[s],y_train[s]\n",
    "            preds = model(xb)\n",
    "            loss = loss_func(preds, yb)\n",
    "            loss.backward()\n",
    "            with torch.no_grad():\n",
    "                for p in model.parameters(): p -=p.grad * lr\n",
    "                model.zero_grad()\n",
    "        \n",
    "        report(loss, preds, yb)"
   ]
  },
  {
   "cell_type": "code",
   "execution_count": 65,
   "id": "5bbf38ab",
   "metadata": {},
   "outputs": [
    {
     "name": "stdout",
     "output_type": "stream",
     "text": [
      "0.19, 0.96\n",
      "0.11, 0.96\n",
      "0.04, 1.00\n"
     ]
    }
   ],
   "source": [
    "fit()"
   ]
  },
  {
   "cell_type": "code",
   "execution_count": 66,
   "id": "a6e5e05f",
   "metadata": {},
   "outputs": [],
   "source": [
    "model.zero_grad??"
   ]
  },
  {
   "cell_type": "code",
   "execution_count": 67,
   "id": "be98a629",
   "metadata": {},
   "outputs": [],
   "source": [
    "from typing import Any\n",
    "\n",
    "\n",
    "class Frob:\n",
    "    def __init__(self) -> None:\n",
    "        self.abc = 'abc'\n",
    "        \n",
    "    def __setattr__(self, name: str, value: Any) -> None:\n",
    "        self.__dict__[name] = value.upper()\n",
    "\n",
    "f = Frob()\n",
    "f.bamf = \"bamf\""
   ]
  },
  {
   "cell_type": "code",
   "execution_count": 68,
   "id": "85cbb0a7",
   "metadata": {},
   "outputs": [
    {
     "data": {
      "text/plain": [
       "'ABC'"
      ]
     },
     "execution_count": 68,
     "metadata": {},
     "output_type": "execute_result"
    }
   ],
   "source": [
    "f.abc"
   ]
  },
  {
   "cell_type": "code",
   "execution_count": 69,
   "id": "82b5243f",
   "metadata": {},
   "outputs": [],
   "source": [
    "from typing import Any\n",
    "\n",
    "\n",
    "class Module:\n",
    "    def __init__(self, n_in, nh, n_out) -> None:\n",
    "        self._modules = {}\n",
    "        self.l1 = nn.Linear(n_in,nh)\n",
    "        self.l2 = nn.Linear(nh, n_out)\n",
    "    \n",
    "    def __setattr__(self, k: str, v: Any) -> None:\n",
    "        if not k.startswith(\"_\"): self._modules[k] = v\n",
    "        super().__setattr__(k, v)\n",
    "    \n",
    "    def __repr__(self) -> str:\n",
    "        return f'{self._modules}'\n",
    "    \n",
    "    def parameters(self):\n",
    "        for l in self._modules.values():\n",
    "            yield from l.parameters()"
   ]
  },
  {
   "cell_type": "code",
   "execution_count": 70,
   "id": "5595f0b4",
   "metadata": {},
   "outputs": [
    {
     "data": {
      "text/plain": [
       "{'l1': Linear(in_features=784, out_features=50, bias=True), 'l2': Linear(in_features=50, out_features=10, bias=True)}"
      ]
     },
     "execution_count": 70,
     "metadata": {},
     "output_type": "execute_result"
    }
   ],
   "source": [
    "mdl = Module(m, mh, 10)\n",
    "mdl"
   ]
  },
  {
   "cell_type": "code",
   "execution_count": 71,
   "id": "db40d57d",
   "metadata": {},
   "outputs": [
    {
     "data": {
      "text/plain": [
       "generator"
      ]
     },
     "execution_count": 71,
     "metadata": {},
     "output_type": "execute_result"
    }
   ],
   "source": [
    "type(list(mdl._modules.values())[0].parameters())"
   ]
  },
  {
   "cell_type": "markdown",
   "id": "c418e616",
   "metadata": {},
   "source": [
    "### Registering modules"
   ]
  },
  {
   "cell_type": "code",
   "execution_count": 72,
   "id": "099e9b29",
   "metadata": {},
   "outputs": [],
   "source": [
    "from functools import reduce"
   ]
  },
  {
   "cell_type": "code",
   "execution_count": 73,
   "id": "ccb6ce89",
   "metadata": {},
   "outputs": [],
   "source": [
    "reduce??"
   ]
  },
  {
   "cell_type": "code",
   "execution_count": 74,
   "id": "e01a0236",
   "metadata": {},
   "outputs": [
    {
     "data": {
      "text/plain": [
       "15"
      ]
     },
     "execution_count": 74,
     "metadata": {},
     "output_type": "execute_result"
    }
   ],
   "source": [
    "reduce(lambda x,y: x + y, [1, 2, 3,4, 5])"
   ]
  },
  {
   "cell_type": "code",
   "execution_count": 75,
   "id": "5ac1f177",
   "metadata": {},
   "outputs": [],
   "source": [
    "class Module(nn.Module):\n",
    "    def __init__(self, layers):\n",
    "        super().__init__()\n",
    "        self.layers = layers\n",
    "        for i, l in enumerate(self.layers):\n",
    "            self.add_module(f'layer_{i}', l)\n",
    "    \n",
    "    def forward(self, x):\n",
    "        return reduce(lambda val,layer: layer(val), self.layers, x)"
   ]
  },
  {
   "cell_type": "code",
   "execution_count": 76,
   "id": "abcc2949",
   "metadata": {},
   "outputs": [],
   "source": [
    "# nn.Module.add_module??"
   ]
  },
  {
   "cell_type": "code",
   "execution_count": 77,
   "id": "255dff6a",
   "metadata": {},
   "outputs": [],
   "source": [
    "layers = [nn.Linear(m,mh), nn.ReLU(), nn.Linear(mh, 10)]"
   ]
  },
  {
   "cell_type": "code",
   "execution_count": 78,
   "id": "da0ff0be",
   "metadata": {},
   "outputs": [],
   "source": [
    "model = Module(layers)"
   ]
  },
  {
   "cell_type": "code",
   "execution_count": 79,
   "id": "753ea0a7",
   "metadata": {},
   "outputs": [],
   "source": [
    "# model.named_modules??"
   ]
  },
  {
   "cell_type": "code",
   "execution_count": 80,
   "id": "04e5d227",
   "metadata": {},
   "outputs": [
    {
     "data": {
      "text/plain": [
       "torch.Size([50, 10])"
      ]
     },
     "execution_count": 80,
     "metadata": {},
     "output_type": "execute_result"
    }
   ],
   "source": [
    "model(xb).shape"
   ]
  },
  {
   "cell_type": "code",
   "execution_count": 81,
   "id": "942415cc",
   "metadata": {},
   "outputs": [],
   "source": [
    "# nn.ModuleList"
   ]
  },
  {
   "cell_type": "code",
   "execution_count": 82,
   "id": "d40a11d6",
   "metadata": {},
   "outputs": [],
   "source": [
    "# nn.Sequential"
   ]
  },
  {
   "cell_type": "code",
   "execution_count": 83,
   "id": "195d4ba4",
   "metadata": {},
   "outputs": [],
   "source": [
    "model = nn.Sequential(\n",
    "    nn.Linear(m, mh),\n",
    "    nn.ReLU(),\n",
    "    nn.Linear(mh, 10)\n",
    ")"
   ]
  },
  {
   "cell_type": "code",
   "execution_count": 84,
   "id": "6e256832",
   "metadata": {},
   "outputs": [
    {
     "name": "stdout",
     "output_type": "stream",
     "text": [
      "0.16, 0.94\n",
      "0.13, 0.96\n",
      "0.08, 0.96\n"
     ]
    }
   ],
   "source": [
    "fit()"
   ]
  },
  {
   "cell_type": "code",
   "execution_count": 85,
   "id": "1471b2f8",
   "metadata": {},
   "outputs": [
    {
     "data": {
      "text/plain": [
       "tensor(0.03, grad_fn=<NllLossBackward0>)"
      ]
     },
     "execution_count": 85,
     "metadata": {},
     "output_type": "execute_result"
    }
   ],
   "source": [
    "loss_func(model(xb), yb)"
   ]
  },
  {
   "cell_type": "code",
   "execution_count": 86,
   "id": "54d96075",
   "metadata": {},
   "outputs": [
    {
     "data": {
      "text/plain": [
       "tensor(1.)"
      ]
     },
     "execution_count": 86,
     "metadata": {},
     "output_type": "execute_result"
    }
   ],
   "source": [
    "accuracy(model(xb), yb)"
   ]
  },
  {
   "cell_type": "code",
   "execution_count": 87,
   "id": "db7be9b6",
   "metadata": {},
   "outputs": [
    {
     "data": {
      "text/plain": [
       "Sequential(\n",
       "  (0): Linear(in_features=784, out_features=50, bias=True)\n",
       "  (1): ReLU()\n",
       "  (2): Linear(in_features=50, out_features=10, bias=True)\n",
       ")"
      ]
     },
     "execution_count": 87,
     "metadata": {},
     "output_type": "execute_result"
    }
   ],
   "source": [
    "model"
   ]
  },
  {
   "cell_type": "code",
   "execution_count": 88,
   "id": "f747c2c2",
   "metadata": {},
   "outputs": [],
   "source": [
    "slice??"
   ]
  },
  {
   "cell_type": "markdown",
   "id": "e15fd6dd",
   "metadata": {},
   "source": [
    "### Optim"
   ]
  },
  {
   "cell_type": "code",
   "execution_count": 89,
   "id": "aec05b4e",
   "metadata": {},
   "outputs": [],
   "source": [
    "class Optimizer():\n",
    "    def __init__(self, params, lr=0.5) -> None:\n",
    "        self.params,self.lr = list(params),lr\n",
    "    \n",
    "    def step(self):\n",
    "        with torch.no_grad():\n",
    "            for p in self.params: p -= self.lr * p.grad\n",
    "    \n",
    "    def zero_grad(self):\n",
    "        for p in self.params: p.grad.zero_()"
   ]
  },
  {
   "cell_type": "code",
   "execution_count": 90,
   "id": "984ae203",
   "metadata": {},
   "outputs": [],
   "source": [
    "model = nn.Sequential(\n",
    "    nn.Linear(m, mh),\n",
    "    nn.ReLU(),\n",
    "    nn.Linear(mh, 10)\n",
    ")"
   ]
  },
  {
   "cell_type": "code",
   "execution_count": 91,
   "id": "8afda7a0",
   "metadata": {},
   "outputs": [],
   "source": [
    "opt = Optimizer(model.parameters())"
   ]
  },
  {
   "cell_type": "code",
   "execution_count": 92,
   "id": "94a866b2",
   "metadata": {},
   "outputs": [
    {
     "name": "stdout",
     "output_type": "stream",
     "text": [
      "0.18, 0.94\n",
      "0.13, 0.96\n",
      "0.11, 0.94\n"
     ]
    }
   ],
   "source": [
    "for epoch in range(epochs):\n",
    "    for i in range(0, n, bs):\n",
    "        s = slice(i, min(i+bs, n))\n",
    "        xb, yb = x_train[s], y_train[s]\n",
    "        preds = model(xb)\n",
    "        loss = loss_func(preds, yb)\n",
    "        loss.backward()\n",
    "        opt.step()\n",
    "        opt.zero_grad()\n",
    "    \n",
    "    report(loss, preds, yb)"
   ]
  },
  {
   "cell_type": "code",
   "execution_count": 93,
   "id": "07155989",
   "metadata": {},
   "outputs": [],
   "source": [
    "from torch import optim"
   ]
  },
  {
   "cell_type": "code",
   "execution_count": 94,
   "id": "7caeadb0",
   "metadata": {},
   "outputs": [],
   "source": [
    "def get_model():\n",
    "    model = nn.Sequential(\n",
    "        nn.Linear(m, mh),\n",
    "        nn.ReLU(),\n",
    "        nn.Linear(mh, 10)\n",
    "    )\n",
    "    return model, optim.SGD(model.parameters(), lr=lr)"
   ]
  },
  {
   "cell_type": "code",
   "execution_count": 95,
   "id": "264f2024",
   "metadata": {},
   "outputs": [
    {
     "data": {
      "text/plain": [
       "tensor(2.33, grad_fn=<NllLossBackward0>)"
      ]
     },
     "execution_count": 95,
     "metadata": {},
     "output_type": "execute_result"
    }
   ],
   "source": [
    "model, opt = get_model()\n",
    "loss_func(model(xb), yb)"
   ]
  },
  {
   "cell_type": "code",
   "execution_count": 96,
   "id": "5fa03494",
   "metadata": {},
   "outputs": [
    {
     "name": "stdout",
     "output_type": "stream",
     "text": [
      "0.12, 0.98\n",
      "0.09, 0.98\n",
      "0.07, 0.98\n"
     ]
    }
   ],
   "source": [
    "for epoch in range(epochs):\n",
    "    for i in range(0, n, bs):\n",
    "        s = slice(i, min(i+bs, n))\n",
    "        xb, yb = x_train[s], y_train[s]\n",
    "        preds = model(xb)\n",
    "        loss = loss_func(preds, yb)\n",
    "        loss.backward()\n",
    "        opt.step()\n",
    "        opt.zero_grad()\n",
    "    \n",
    "    report(loss, preds, yb)"
   ]
  },
  {
   "cell_type": "markdown",
   "id": "5544412e",
   "metadata": {},
   "source": [
    "### Dataset and dataloader"
   ]
  },
  {
   "cell_type": "code",
   "execution_count": 380,
   "id": "924f0382",
   "metadata": {},
   "outputs": [],
   "source": [
    "#| export\n",
    "class Dataset():\n",
    "    def __init__(self, x, y):\n",
    "        self.x, self.y  = x,y\n",
    "    \n",
    "    def __len__(self):\n",
    "        return len(self.x)\n",
    "    \n",
    "    def __getitem__(self, i): return self.x[i], self.y[i]"
   ]
  },
  {
   "cell_type": "code",
   "execution_count": 381,
   "id": "f8c5f3d6",
   "metadata": {},
   "outputs": [],
   "source": [
    "train_ds, valid_ds = Dataset(x_train, y_train), Dataset(x_valid, y_valid)"
   ]
  },
  {
   "cell_type": "code",
   "execution_count": 99,
   "id": "c3f8f14e",
   "metadata": {},
   "outputs": [],
   "source": [
    "assert len(train_ds) == len(x_train)"
   ]
  },
  {
   "cell_type": "code",
   "execution_count": 100,
   "id": "b74fd9e6",
   "metadata": {},
   "outputs": [],
   "source": [
    "assert len(valid_ds) == len(x_valid)"
   ]
  },
  {
   "cell_type": "code",
   "execution_count": 101,
   "id": "e0941aa1",
   "metadata": {},
   "outputs": [],
   "source": [
    "xb, yb = train_ds[:5]"
   ]
  },
  {
   "cell_type": "code",
   "execution_count": 102,
   "id": "5463c2cd",
   "metadata": {},
   "outputs": [
    {
     "data": {
      "text/plain": [
       "(5, 5)"
      ]
     },
     "execution_count": 102,
     "metadata": {},
     "output_type": "execute_result"
    }
   ],
   "source": [
    "len(xb), len(yb)"
   ]
  },
  {
   "cell_type": "code",
   "execution_count": 103,
   "id": "b12d51ae",
   "metadata": {},
   "outputs": [
    {
     "data": {
      "text/plain": [
       "torch.Size([5, 784])"
      ]
     },
     "execution_count": 103,
     "metadata": {},
     "output_type": "execute_result"
    }
   ],
   "source": [
    "xb.shape"
   ]
  },
  {
   "cell_type": "code",
   "execution_count": 104,
   "id": "1fbffd90",
   "metadata": {},
   "outputs": [],
   "source": [
    "model, opt = get_model()"
   ]
  },
  {
   "cell_type": "code",
   "execution_count": 105,
   "id": "5a18c4ee",
   "metadata": {},
   "outputs": [
    {
     "name": "stdout",
     "output_type": "stream",
     "text": [
      "0.17, 0.96\n",
      "0.11, 0.94\n",
      "0.09, 0.96\n"
     ]
    }
   ],
   "source": [
    "for epoch in range(epochs):\n",
    "    for i in range(0, n, bs):\n",
    "        s = slice(i, min(i+bs, n))\n",
    "        xb, yb = train_ds[s]\n",
    "        preds = model(xb)\n",
    "        loss = loss_func(preds, yb)\n",
    "        loss.backward()\n",
    "        opt.step()\n",
    "        opt.zero_grad()\n",
    "    \n",
    "    report(loss, preds, yb)"
   ]
  },
  {
   "cell_type": "code",
   "execution_count": 106,
   "id": "2fcaa449",
   "metadata": {},
   "outputs": [
    {
     "data": {
      "text/plain": [
       "tensor([[0., 0.],\n",
       "        [0., 0.]])"
      ]
     },
     "execution_count": 106,
     "metadata": {},
     "output_type": "execute_result"
    }
   ],
   "source": [
    "a = torch.ones(2, 2)\n",
    "a.zero_()"
   ]
  },
  {
   "cell_type": "code",
   "execution_count": 107,
   "id": "f7e26990",
   "metadata": {},
   "outputs": [],
   "source": [
    "class DataLoader():\n",
    "    def __init__(self, ds, bs) -> None:\n",
    "        self.ds,self.bs = ds,bs\n",
    "    \n",
    "    def __iter__(self):\n",
    "        for i in range(0, len(self.ds), bs):\n",
    "            yield self.ds[i: i+self.bs]"
   ]
  },
  {
   "cell_type": "code",
   "execution_count": 108,
   "id": "1b2639f0",
   "metadata": {},
   "outputs": [
    {
     "data": {
      "text/plain": [
       "[5, 6, 7, 8, 9]"
      ]
     },
     "execution_count": 108,
     "metadata": {},
     "output_type": "execute_result"
    }
   ],
   "source": [
    "a = list(range(10))\n",
    "a[5:15]"
   ]
  },
  {
   "cell_type": "code",
   "execution_count": 109,
   "id": "619ba8b0",
   "metadata": {},
   "outputs": [],
   "source": [
    "train_dl = DataLoader(train_ds, bs)\n",
    "valid_dl = DataLoader(valid_ds, bs)"
   ]
  },
  {
   "cell_type": "code",
   "execution_count": 110,
   "id": "5d6b9a56",
   "metadata": {},
   "outputs": [
    {
     "data": {
      "text/plain": [
       "(torch.Size([50, 784]), torch.Size([50]))"
      ]
     },
     "execution_count": 110,
     "metadata": {},
     "output_type": "execute_result"
    }
   ],
   "source": [
    "xb, yb = next(iter(train_dl))\n",
    "xb.shape, yb.shape"
   ]
  },
  {
   "cell_type": "code",
   "execution_count": 111,
   "id": "fce4095e",
   "metadata": {},
   "outputs": [
    {
     "data": {
      "text/plain": [
       "1"
      ]
     },
     "execution_count": 111,
     "metadata": {},
     "output_type": "execute_result"
    }
   ],
   "source": [
    "a = [1, 2, 3,4]\n",
    "i = iter(a)\n",
    "next(i)"
   ]
  },
  {
   "cell_type": "code",
   "execution_count": 112,
   "id": "953b87a7",
   "metadata": {},
   "outputs": [
    {
     "data": {
      "text/plain": [
       "<matplotlib.image.AxesImage at 0x12eba8d90>"
      ]
     },
     "execution_count": 112,
     "metadata": {},
     "output_type": "execute_result"
    },
    {
     "data": {
      "image/png": "[encoded data removed]",
      "text/plain": [
       "<Figure size 640x480 with 1 Axes>"
      ]
     },
     "metadata": {},
     "output_type": "display_data"
    }
   ],
   "source": [
    "plt.imshow(xb[0].view(28, 28))"
   ]
  },
  {
   "cell_type": "code",
   "execution_count": 113,
   "id": "ee099f5a",
   "metadata": {},
   "outputs": [
    {
     "data": {
      "text/plain": [
       "<matplotlib.image.AxesImage at 0x12fec5150>"
      ]
     },
     "execution_count": 113,
     "metadata": {},
     "output_type": "execute_result"
    },
    {
     "data": {
      "image/png": "[encoded data removed]",
      "text/plain": [
       "<Figure size 640x480 with 1 Axes>"
      ]
     },
     "metadata": {},
     "output_type": "display_data"
    }
   ],
   "source": [
    "plt.imshow(xb[0].reshape(28, 28))"
   ]
  },
  {
   "cell_type": "code",
   "execution_count": 114,
   "id": "5b2b4ef0",
   "metadata": {},
   "outputs": [
    {
     "data": {
      "text/plain": [
       "tensor(5)"
      ]
     },
     "execution_count": 114,
     "metadata": {},
     "output_type": "execute_result"
    }
   ],
   "source": [
    "yb[0]"
   ]
  },
  {
   "cell_type": "code",
   "execution_count": 115,
   "id": "c64820da",
   "metadata": {},
   "outputs": [],
   "source": [
    "def fit():\n",
    "    for epoch in range(epochs):\n",
    "        for xb, yb in train_dl:\n",
    "            preds = model(xb)\n",
    "            loss = loss_func(preds, yb)\n",
    "            loss.backward()\n",
    "            opt.step()\n",
    "            opt.zero_grad()\n",
    "        \n",
    "        report(loss, preds, yb)"
   ]
  },
  {
   "cell_type": "code",
   "execution_count": 116,
   "id": "bc6af378",
   "metadata": {},
   "outputs": [],
   "source": [
    "model, opt = get_model()"
   ]
  },
  {
   "cell_type": "code",
   "execution_count": 117,
   "id": "54d57f7d",
   "metadata": {},
   "outputs": [
    {
     "name": "stdout",
     "output_type": "stream",
     "text": [
      "0.11, 0.98\n",
      "0.08, 0.98\n",
      "0.06, 1.00\n"
     ]
    }
   ],
   "source": [
    "fit()"
   ]
  },
  {
   "cell_type": "code",
   "execution_count": 118,
   "id": "a1c760f0",
   "metadata": {},
   "outputs": [
    {
     "data": {
      "text/plain": [
       "(tensor(0.18, grad_fn=<NllLossBackward0>), tensor(0.96))"
      ]
     },
     "execution_count": 118,
     "metadata": {},
     "output_type": "execute_result"
    }
   ],
   "source": [
    "loss_func(model(xb), yb), accuracy(model(xb), yb)"
   ]
  },
  {
   "cell_type": "markdown",
   "id": "39fe7b64",
   "metadata": {},
   "source": [
    "### Random sampling"
   ]
  },
  {
   "cell_type": "code",
   "execution_count": 119,
   "id": "e57d8850",
   "metadata": {},
   "outputs": [],
   "source": [
    "import random"
   ]
  },
  {
   "cell_type": "code",
   "execution_count": 120,
   "id": "16175c1a",
   "metadata": {},
   "outputs": [],
   "source": [
    "class Sampler():\n",
    "    def __init__(self, ds, shuffle=False) -> None:\n",
    "        self.n,self.shuffle = len(ds), shuffle\n",
    "    \n",
    "    def __iter__(self):\n",
    "        res = list(range(self.n))\n",
    "        if self.shuffle: random.shuffle(res)\n",
    "        return iter(res)"
   ]
  },
  {
   "cell_type": "code",
   "execution_count": 121,
   "id": "42b26867",
   "metadata": {},
   "outputs": [],
   "source": [
    "from itertools import islice"
   ]
  },
  {
   "cell_type": "code",
   "execution_count": 122,
   "id": "b2a8348c",
   "metadata": {},
   "outputs": [],
   "source": [
    "ss = Sampler(train_ds)"
   ]
  },
  {
   "cell_type": "code",
   "execution_count": 123,
   "id": "f43fd23e",
   "metadata": {},
   "outputs": [
    {
     "name": "stdout",
     "output_type": "stream",
     "text": [
      "0\n",
      "1\n",
      "2\n",
      "3\n",
      "4\n"
     ]
    }
   ],
   "source": [
    "it = iter(ss)\n",
    "for o in range(5):\n",
    "    print(next(it))"
   ]
  },
  {
   "cell_type": "code",
   "execution_count": 124,
   "id": "9571b5d4",
   "metadata": {},
   "outputs": [],
   "source": [
    "islice??"
   ]
  },
  {
   "cell_type": "code",
   "execution_count": 125,
   "id": "94da25f1",
   "metadata": {},
   "outputs": [],
   "source": [
    "slice??"
   ]
  },
  {
   "cell_type": "code",
   "execution_count": 126,
   "id": "a2b60e0f",
   "metadata": {},
   "outputs": [
    {
     "data": {
      "text/plain": [
       "slice(0, 10, 2)"
      ]
     },
     "execution_count": 126,
     "metadata": {},
     "output_type": "execute_result"
    }
   ],
   "source": [
    "slice(0, 10, 2)"
   ]
  },
  {
   "cell_type": "code",
   "execution_count": 127,
   "id": "6e53507e",
   "metadata": {},
   "outputs": [
    {
     "data": {
      "text/plain": [
       "list"
      ]
     },
     "execution_count": 127,
     "metadata": {},
     "output_type": "execute_result"
    }
   ],
   "source": [
    "a = list(range(10))\n",
    "type(a[slice(0, 10, 2)])"
   ]
  },
  {
   "cell_type": "code",
   "execution_count": 128,
   "id": "bad0675c",
   "metadata": {},
   "outputs": [
    {
     "data": {
      "text/plain": [
       "[0, 1, 2, 3, 4]"
      ]
     },
     "execution_count": 128,
     "metadata": {},
     "output_type": "execute_result"
    }
   ],
   "source": [
    "list(islice(ss, 5))"
   ]
  },
  {
   "cell_type": "code",
   "execution_count": 129,
   "id": "7c2d0305",
   "metadata": {},
   "outputs": [
    {
     "name": "stdout",
     "output_type": "stream",
     "text": [
      "0\n",
      "1\n",
      "2\n"
     ]
    }
   ],
   "source": [
    "for i in ss:\n",
    "    print(i)\n",
    "    if i == 2:\n",
    "        break"
   ]
  },
  {
   "cell_type": "code",
   "execution_count": 130,
   "id": "15d0f16c",
   "metadata": {},
   "outputs": [
    {
     "data": {
      "text/plain": [
       "[33981, 19214, 28003, 34581, 23189]"
      ]
     },
     "execution_count": 130,
     "metadata": {},
     "output_type": "execute_result"
    }
   ],
   "source": [
    "ss = Sampler(train_ds, shuffle=True)\n",
    "list(islice(ss, 5))"
   ]
  },
  {
   "cell_type": "code",
   "execution_count": 131,
   "id": "4dabf4cb",
   "metadata": {},
   "outputs": [],
   "source": [
    "import fastcore.all as fc"
   ]
  },
  {
   "cell_type": "code",
   "execution_count": 132,
   "id": "58bbc9c8",
   "metadata": {},
   "outputs": [],
   "source": [
    "fc.store_attr??"
   ]
  },
  {
   "cell_type": "code",
   "execution_count": 133,
   "id": "0de1f1ef",
   "metadata": {},
   "outputs": [],
   "source": [
    "class BatchSampler():\n",
    "    def __init__(self, sampler, bs, drop_last=False) -> None:\n",
    "        fc.store_attr()\n",
    "    \n",
    "    def __iter__(self):\n",
    "        yield from fc.chunked(iter(self.sampler), self.bs, drop_last=self.drop_last)"
   ]
  },
  {
   "cell_type": "code",
   "execution_count": 134,
   "id": "7322fa97",
   "metadata": {},
   "outputs": [],
   "source": [
    "batchs = BatchSampler(ss, 4)\n",
    "a = list(islice(batchs, 5))"
   ]
  },
  {
   "cell_type": "code",
   "execution_count": 135,
   "id": "bf148edd",
   "metadata": {},
   "outputs": [
    {
     "data": {
      "text/plain": [
       "(tensor([[0., 0., 0.,  ..., 0., 0., 0.],\n",
       "         [0., 0., 0.,  ..., 0., 0., 0.],\n",
       "         [0., 0., 0.,  ..., 0., 0., 0.],\n",
       "         [0., 0., 0.,  ..., 0., 0., 0.]]),\n",
       " tensor([6, 4, 5, 0]))"
      ]
     },
     "execution_count": 135,
     "metadata": {},
     "output_type": "execute_result"
    }
   ],
   "source": [
    "train_ds[next(islice(batchs, 5))]"
   ]
  },
  {
   "cell_type": "code",
   "execution_count": 136,
   "id": "4592c9b0",
   "metadata": {},
   "outputs": [],
   "source": [
    "def collate(b):\n",
    "    xs, ys = zip(*b)\n",
    "    print(len(xs))"
   ]
  },
  {
   "cell_type": "code",
   "execution_count": 137,
   "id": "eb1c28f5",
   "metadata": {},
   "outputs": [
    {
     "name": "stdout",
     "output_type": "stream",
     "text": [
      "12500\n"
     ]
    }
   ],
   "source": [
    "collate(train_ds[i] for i in batchs)"
   ]
  },
  {
   "cell_type": "code",
   "execution_count": 138,
   "id": "f32ad9b6",
   "metadata": {},
   "outputs": [
    {
     "data": {
      "text/plain": [
       "50000"
      ]
     },
     "execution_count": 138,
     "metadata": {},
     "output_type": "execute_result"
    }
   ],
   "source": [
    "len(train_ds)"
   ]
  },
  {
   "cell_type": "code",
   "execution_count": 139,
   "id": "b7e3437e",
   "metadata": {},
   "outputs": [],
   "source": [
    "zip??"
   ]
  },
  {
   "cell_type": "code",
   "execution_count": 140,
   "id": "48d3d34e",
   "metadata": {},
   "outputs": [],
   "source": [
    "b = [(1, 2), (3, 4), (4, 5)]"
   ]
  },
  {
   "cell_type": "code",
   "execution_count": 141,
   "id": "dd412226",
   "metadata": {},
   "outputs": [
    {
     "data": {
      "text/plain": [
       "((1, 3, 4), (2, 4, 5))"
      ]
     },
     "execution_count": 141,
     "metadata": {},
     "output_type": "execute_result"
    }
   ],
   "source": [
    "x, y = zip(*b)\n",
    "x, y"
   ]
  },
  {
   "cell_type": "code",
   "execution_count": 142,
   "id": "4847fbee",
   "metadata": {},
   "outputs": [],
   "source": [
    "a = tensor([1, 2, 3, 4])\n",
    "b = torch.zeros(4)"
   ]
  },
  {
   "cell_type": "code",
   "execution_count": 143,
   "id": "4fa58e04",
   "metadata": {},
   "outputs": [
    {
     "data": {
      "text/plain": [
       "torch.Size([2, 4])"
      ]
     },
     "execution_count": 143,
     "metadata": {},
     "output_type": "execute_result"
    }
   ],
   "source": [
    "torch.stack((a, b)).shape"
   ]
  },
  {
   "cell_type": "code",
   "execution_count": 144,
   "id": "dad88930",
   "metadata": {},
   "outputs": [],
   "source": [
    "torch.stack??"
   ]
  },
  {
   "cell_type": "code",
   "execution_count": 145,
   "id": "e24e397c",
   "metadata": {},
   "outputs": [],
   "source": [
    "def collate(b):\n",
    "    xs, ys = zip(*b)\n",
    "    return torch.stack(xs), torch.stack(ys)"
   ]
  },
  {
   "cell_type": "code",
   "execution_count": 302,
   "id": "175ac9dc",
   "metadata": {},
   "outputs": [],
   "source": [
    "class DataLoader():\n",
    "    def __init__(self, ds, batchs1, collate_fn=collate):\n",
    "        fc.store_attr()\n",
    "    \n",
    "    def __iter__(self):\n",
    "        yield from (self.collate_fn(self.ds[i] for i in b) for b in self.batchs1)"
   ]
  },
  {
   "cell_type": "code",
   "execution_count": 303,
   "id": "96833a5d",
   "metadata": {},
   "outputs": [
    {
     "name": "stdout",
     "output_type": "stream",
     "text": [
      "\u001b[0;31mInit signature:\u001b[0m \u001b[0mBatchSampler\u001b[0m\u001b[0;34m(\u001b[0m\u001b[0msampler\u001b[0m\u001b[0;34m,\u001b[0m \u001b[0mbs\u001b[0m\u001b[0;34m,\u001b[0m \u001b[0mdrop_last\u001b[0m\u001b[0;34m=\u001b[0m\u001b[0;32mFalse\u001b[0m\u001b[0;34m)\u001b[0m \u001b[0;34m->\u001b[0m \u001b[0;32mNone\u001b[0m\u001b[0;34m\u001b[0m\u001b[0;34m\u001b[0m\u001b[0m\n",
      "\u001b[0;31mDocstring:\u001b[0m      <no docstring>\n",
      "\u001b[0;31mType:\u001b[0m           type\n",
      "\u001b[0;31mSubclasses:\u001b[0m     "
     ]
    }
   ],
   "source": [
    "BatchSampler??"
   ]
  },
  {
   "cell_type": "code",
   "execution_count": 304,
   "id": "07c5f332",
   "metadata": {},
   "outputs": [],
   "source": [
    "train_sampler = BatchSampler(Sampler(train_ds, shuffle=True), bs)\n",
    "valid_sampler = BatchSampler(Sampler(valid_ds, shuffle=False), bs)"
   ]
  },
  {
   "cell_type": "code",
   "execution_count": 305,
   "id": "f8ed741d",
   "metadata": {},
   "outputs": [],
   "source": [
    "train_dl = DataLoader(train_ds, batchs1=train_sampler)\n",
    "valid_dl = DataLoader(valid_ds, batchs1=valid_sampler)"
   ]
  },
  {
   "cell_type": "code",
   "execution_count": 306,
   "id": "ad9416b4",
   "metadata": {},
   "outputs": [
    {
     "data": {
      "text/plain": [
       "(tensor([[0., 0., 0.,  ..., 0., 0., 0.],\n",
       "         [0., 0., 0.,  ..., 0., 0., 0.],\n",
       "         [0., 0., 0.,  ..., 0., 0., 0.],\n",
       "         ...,\n",
       "         [0., 0., 0.,  ..., 0., 0., 0.],\n",
       "         [0., 0., 0.,  ..., 0., 0., 0.],\n",
       "         [0., 0., 0.,  ..., 0., 0., 0.]]),\n",
       " tensor([1, 9, 6, 6, 8, 1, 6, 7, 9, 0, 6, 1, 1, 1, 9, 8, 4, 9, 7, 1, 1, 1, 3, 3, 1, 6, 9, 4, 9, 8, 0, 7, 0, 0, 5, 9, 0, 8, 9,\n",
       "         8, 0, 4, 7, 2, 1, 2, 1, 8, 0, 1]))"
      ]
     },
     "execution_count": 306,
     "metadata": {},
     "output_type": "execute_result"
    }
   ],
   "source": [
    "next(iter(train_dl))"
   ]
  },
  {
   "cell_type": "code",
   "execution_count": 308,
   "id": "309c8fcc",
   "metadata": {},
   "outputs": [],
   "source": [
    "def g1():\n",
    "    for i in range(10):\n",
    "        yield i"
   ]
  },
  {
   "cell_type": "code",
   "execution_count": 309,
   "id": "ae49e848",
   "metadata": {},
   "outputs": [],
   "source": [
    "def g2():\n",
    "    yield from g1()"
   ]
  },
  {
   "cell_type": "code",
   "execution_count": 310,
   "id": "d40506e6",
   "metadata": {},
   "outputs": [
    {
     "data": {
      "text/plain": [
       "[0, 1, 2, 3, 4, 5, 6, 7, 8, 9]"
      ]
     },
     "execution_count": 310,
     "metadata": {},
     "output_type": "execute_result"
    }
   ],
   "source": [
    "list(g2())"
   ]
  },
  {
   "cell_type": "code",
   "execution_count": 311,
   "id": "3a7e7e9a",
   "metadata": {},
   "outputs": [],
   "source": [
    "xb, yb = next(iter(train_dl))"
   ]
  },
  {
   "cell_type": "code",
   "execution_count": 312,
   "id": "4d73acd0",
   "metadata": {},
   "outputs": [
    {
     "data": {
      "image/png": "[encoded data removed]",
      "text/plain": [
       "<Figure size 640x480 with 1 Axes>"
      ]
     },
     "metadata": {},
     "output_type": "display_data"
    }
   ],
   "source": [
    "plt.imshow(xb[0].reshape(28, 28));"
   ]
  },
  {
   "cell_type": "code",
   "execution_count": 313,
   "id": "c6434492",
   "metadata": {},
   "outputs": [
    {
     "data": {
      "text/plain": [
       "tensor(4)"
      ]
     },
     "execution_count": 313,
     "metadata": {},
     "output_type": "execute_result"
    }
   ],
   "source": [
    "yb[0]"
   ]
  },
  {
   "cell_type": "code",
   "execution_count": 314,
   "id": "bd2ff1c6",
   "metadata": {},
   "outputs": [
    {
     "data": {
      "text/plain": [
       "(torch.Size([50, 784]), torch.Size([50]))"
      ]
     },
     "execution_count": 314,
     "metadata": {},
     "output_type": "execute_result"
    }
   ],
   "source": [
    "xb.shape, yb.shape"
   ]
  },
  {
   "cell_type": "code",
   "execution_count": 315,
   "id": "fe44be5c",
   "metadata": {},
   "outputs": [],
   "source": [
    "model, opt = get_model()"
   ]
  },
  {
   "cell_type": "code",
   "execution_count": 316,
   "id": "200a77a0",
   "metadata": {},
   "outputs": [
    {
     "name": "stdout",
     "output_type": "stream",
     "text": [
      "0.05, 1.00\n",
      "0.05, 0.98\n",
      "0.07, 0.96\n"
     ]
    }
   ],
   "source": [
    "fit()"
   ]
  },
  {
   "cell_type": "code",
   "execution_count": 317,
   "id": "ac85da82",
   "metadata": {},
   "outputs": [
    {
     "name": "stdout",
     "output_type": "stream",
     "text": [
      "torch.Size([50, 784])\n",
      "torch.Size([50, 784])\n",
      "torch.Size([50, 784])\n",
      "torch.Size([50, 784])\n",
      "torch.Size([50, 784])\n",
      "torch.Size([50, 784])\n",
      "torch.Size([50, 784])\n",
      "torch.Size([50, 784])\n",
      "torch.Size([50, 784])\n",
      "torch.Size([50, 784])\n",
      "torch.Size([50, 784])\n",
      "torch.Size([50, 784])\n",
      "torch.Size([50, 784])\n",
      "torch.Size([50, 784])\n",
      "torch.Size([50, 784])\n",
      "torch.Size([50, 784])\n",
      "torch.Size([50, 784])\n",
      "torch.Size([50, 784])\n",
      "torch.Size([50, 784])\n",
      "torch.Size([50, 784])\n",
      "torch.Size([50, 784])\n",
      "torch.Size([50, 784])\n",
      "torch.Size([50, 784])\n",
      "torch.Size([50, 784])\n",
      "torch.Size([50, 784])\n",
      "torch.Size([50, 784])\n",
      "torch.Size([50, 784])\n",
      "torch.Size([50, 784])\n",
      "torch.Size([50, 784])\n",
      "torch.Size([50, 784])\n",
      "torch.Size([50, 784])\n",
      "torch.Size([50, 784])\n",
      "torch.Size([50, 784])\n",
      "torch.Size([50, 784])\n",
      "torch.Size([50, 784])\n",
      "torch.Size([50, 784])\n",
      "torch.Size([50, 784])\n",
      "torch.Size([50, 784])\n",
      "torch.Size([50, 784])\n",
      "torch.Size([50, 784])\n",
      "torch.Size([50, 784])\n",
      "torch.Size([50, 784])\n",
      "torch.Size([50, 784])\n",
      "torch.Size([50, 784])\n",
      "torch.Size([50, 784])\n",
      "torch.Size([50, 784])\n",
      "torch.Size([50, 784])\n",
      "torch.Size([50, 784])\n",
      "torch.Size([50, 784])\n",
      "torch.Size([50, 784])\n",
      "torch.Size([50, 784])\n",
      "torch.Size([50, 784])\n",
      "torch.Size([50, 784])\n",
      "torch.Size([50, 784])\n",
      "torch.Size([50, 784])\n",
      "torch.Size([50, 784])\n",
      "torch.Size([50, 784])\n",
      "torch.Size([50, 784])\n",
      "torch.Size([50, 784])\n",
      "torch.Size([50, 784])\n",
      "torch.Size([50, 784])\n",
      "torch.Size([50, 784])\n",
      "torch.Size([50, 784])\n",
      "torch.Size([50, 784])\n",
      "torch.Size([50, 784])\n",
      "torch.Size([50, 784])\n",
      "torch.Size([50, 784])\n",
      "torch.Size([50, 784])\n",
      "torch.Size([50, 784])\n",
      "torch.Size([50, 784])\n",
      "torch.Size([50, 784])\n",
      "torch.Size([50, 784])\n",
      "torch.Size([50, 784])\n",
      "torch.Size([50, 784])\n",
      "torch.Size([50, 784])\n",
      "torch.Size([50, 784])\n",
      "torch.Size([50, 784])\n",
      "torch.Size([50, 784])\n",
      "torch.Size([50, 784])\n",
      "torch.Size([50, 784])\n",
      "torch.Size([50, 784])\n",
      "torch.Size([50, 784])\n",
      "torch.Size([50, 784])\n",
      "torch.Size([50, 784])\n",
      "torch.Size([50, 784])\n",
      "torch.Size([50, 784])\n",
      "torch.Size([50, 784])\n",
      "torch.Size([50, 784])\n",
      "torch.Size([50, 784])\n",
      "torch.Size([50, 784])\n",
      "torch.Size([50, 784])\n",
      "torch.Size([50, 784])\n",
      "torch.Size([50, 784])\n",
      "torch.Size([50, 784])\n",
      "torch.Size([50, 784])\n",
      "torch.Size([50, 784])\n",
      "torch.Size([50, 784])\n",
      "torch.Size([50, 784])\n",
      "torch.Size([50, 784])\n",
      "torch.Size([50, 784])\n",
      "torch.Size([50, 784])\n",
      "torch.Size([50, 784])\n",
      "torch.Size([50, 784])\n",
      "torch.Size([50, 784])\n",
      "torch.Size([50, 784])\n",
      "torch.Size([50, 784])\n",
      "torch.Size([50, 784])\n",
      "torch.Size([50, 784])\n",
      "torch.Size([50, 784])\n",
      "torch.Size([50, 784])\n",
      "torch.Size([50, 784])\n",
      "torch.Size([50, 784])\n",
      "torch.Size([50, 784])\n",
      "torch.Size([50, 784])\n",
      "torch.Size([50, 784])\n",
      "torch.Size([50, 784])\n",
      "torch.Size([50, 784])\n",
      "torch.Size([50, 784])\n",
      "torch.Size([50, 784])\n",
      "torch.Size([50, 784])\n",
      "torch.Size([50, 784])\n",
      "torch.Size([50, 784])\n",
      "torch.Size([50, 784])\n",
      "torch.Size([50, 784])\n",
      "torch.Size([50, 784])\n",
      "torch.Size([50, 784])\n",
      "torch.Size([50, 784])\n",
      "torch.Size([50, 784])\n",
      "torch.Size([50, 784])\n",
      "torch.Size([50, 784])\n",
      "torch.Size([50, 784])\n",
      "torch.Size([50, 784])\n",
      "torch.Size([50, 784])\n",
      "torch.Size([50, 784])\n",
      "torch.Size([50, 784])\n",
      "torch.Size([50, 784])\n",
      "torch.Size([50, 784])\n",
      "torch.Size([50, 784])\n",
      "torch.Size([50, 784])\n",
      "torch.Size([50, 784])\n",
      "torch.Size([50, 784])\n",
      "torch.Size([50, 784])\n",
      "torch.Size([50, 784])\n",
      "torch.Size([50, 784])\n",
      "torch.Size([50, 784])\n",
      "torch.Size([50, 784])\n",
      "torch.Size([50, 784])\n",
      "torch.Size([50, 784])\n",
      "torch.Size([50, 784])\n",
      "torch.Size([50, 784])\n",
      "torch.Size([50, 784])\n",
      "torch.Size([50, 784])\n",
      "torch.Size([50, 784])\n",
      "torch.Size([50, 784])\n",
      "torch.Size([50, 784])\n",
      "torch.Size([50, 784])\n",
      "torch.Size([50, 784])\n",
      "torch.Size([50, 784])\n",
      "torch.Size([50, 784])\n",
      "torch.Size([50, 784])\n",
      "torch.Size([50, 784])\n",
      "torch.Size([50, 784])\n",
      "torch.Size([50, 784])\n",
      "torch.Size([50, 784])\n",
      "torch.Size([50, 784])\n",
      "torch.Size([50, 784])\n",
      "torch.Size([50, 784])\n",
      "torch.Size([50, 784])\n",
      "torch.Size([50, 784])\n",
      "torch.Size([50, 784])\n",
      "torch.Size([50, 784])\n",
      "torch.Size([50, 784])\n",
      "torch.Size([50, 784])\n",
      "torch.Size([50, 784])\n",
      "torch.Size([50, 784])\n",
      "torch.Size([50, 784])\n",
      "torch.Size([50, 784])\n",
      "torch.Size([50, 784])\n",
      "torch.Size([50, 784])\n",
      "torch.Size([50, 784])\n",
      "torch.Size([50, 784])\n",
      "torch.Size([50, 784])\n",
      "torch.Size([50, 784])\n",
      "torch.Size([50, 784])\n",
      "torch.Size([50, 784])\n",
      "torch.Size([50, 784])\n",
      "torch.Size([50, 784])\n",
      "torch.Size([50, 784])\n",
      "torch.Size([50, 784])\n",
      "torch.Size([50, 784])\n",
      "torch.Size([50, 784])\n",
      "torch.Size([50, 784])\n",
      "torch.Size([50, 784])\n",
      "torch.Size([50, 784])\n",
      "torch.Size([50, 784])\n",
      "torch.Size([50, 784])\n",
      "torch.Size([50, 784])\n",
      "torch.Size([50, 784])\n",
      "torch.Size([50, 784])\n",
      "torch.Size([50, 784])\n",
      "torch.Size([50, 784])\n",
      "torch.Size([50, 784])\n",
      "torch.Size([50, 784])\n",
      "torch.Size([50, 784])\n",
      "torch.Size([50, 784])\n",
      "torch.Size([50, 784])\n",
      "torch.Size([50, 784])\n",
      "torch.Size([50, 784])\n",
      "torch.Size([50, 784])\n",
      "torch.Size([50, 784])\n",
      "torch.Size([50, 784])\n",
      "torch.Size([50, 784])\n",
      "torch.Size([50, 784])\n",
      "torch.Size([50, 784])\n",
      "torch.Size([50, 784])\n",
      "torch.Size([50, 784])\n",
      "torch.Size([50, 784])\n",
      "torch.Size([50, 784])\n",
      "torch.Size([50, 784])\n",
      "torch.Size([50, 784])\n",
      "torch.Size([50, 784])\n",
      "torch.Size([50, 784])\n",
      "torch.Size([50, 784])\n",
      "torch.Size([50, 784])\n",
      "torch.Size([50, 784])\n",
      "torch.Size([50, 784])\n",
      "torch.Size([50, 784])\n",
      "torch.Size([50, 784])\n",
      "torch.Size([50, 784])\n",
      "torch.Size([50, 784])\n",
      "torch.Size([50, 784])\n",
      "torch.Size([50, 784])\n",
      "torch.Size([50, 784])\n",
      "torch.Size([50, 784])\n",
      "torch.Size([50, 784])\n",
      "torch.Size([50, 784])\n",
      "torch.Size([50, 784])\n",
      "torch.Size([50, 784])\n",
      "torch.Size([50, 784])\n",
      "torch.Size([50, 784])\n",
      "torch.Size([50, 784])\n",
      "torch.Size([50, 784])\n",
      "torch.Size([50, 784])\n",
      "torch.Size([50, 784])\n",
      "torch.Size([50, 784])\n",
      "torch.Size([50, 784])\n",
      "torch.Size([50, 784])\n",
      "torch.Size([50, 784])\n",
      "torch.Size([50, 784])\n",
      "torch.Size([50, 784])\n",
      "torch.Size([50, 784])\n",
      "torch.Size([50, 784])\n",
      "torch.Size([50, 784])\n",
      "torch.Size([50, 784])\n",
      "torch.Size([50, 784])\n",
      "torch.Size([50, 784])\n",
      "torch.Size([50, 784])\n",
      "torch.Size([50, 784])\n",
      "torch.Size([50, 784])\n",
      "torch.Size([50, 784])\n",
      "torch.Size([50, 784])\n",
      "torch.Size([50, 784])\n",
      "torch.Size([50, 784])\n",
      "torch.Size([50, 784])\n",
      "torch.Size([50, 784])\n",
      "torch.Size([50, 784])\n",
      "torch.Size([50, 784])\n",
      "torch.Size([50, 784])\n",
      "torch.Size([50, 784])\n",
      "torch.Size([50, 784])\n",
      "torch.Size([50, 784])\n",
      "torch.Size([50, 784])\n",
      "torch.Size([50, 784])\n",
      "torch.Size([50, 784])\n",
      "torch.Size([50, 784])\n",
      "torch.Size([50, 784])\n",
      "torch.Size([50, 784])\n",
      "torch.Size([50, 784])\n",
      "torch.Size([50, 784])\n",
      "torch.Size([50, 784])\n",
      "torch.Size([50, 784])\n",
      "torch.Size([50, 784])\n",
      "torch.Size([50, 784])\n",
      "torch.Size([50, 784])\n",
      "torch.Size([50, 784])\n",
      "torch.Size([50, 784])\n",
      "torch.Size([50, 784])\n",
      "torch.Size([50, 784])\n",
      "torch.Size([50, 784])\n",
      "torch.Size([50, 784])\n",
      "torch.Size([50, 784])\n",
      "torch.Size([50, 784])\n",
      "torch.Size([50, 784])\n",
      "torch.Size([50, 784])\n",
      "torch.Size([50, 784])\n",
      "torch.Size([50, 784])\n",
      "torch.Size([50, 784])\n",
      "torch.Size([50, 784])\n",
      "torch.Size([50, 784])\n",
      "torch.Size([50, 784])\n",
      "torch.Size([50, 784])\n",
      "torch.Size([50, 784])\n",
      "torch.Size([50, 784])\n",
      "torch.Size([50, 784])\n",
      "torch.Size([50, 784])\n",
      "torch.Size([50, 784])\n",
      "torch.Size([50, 784])\n",
      "torch.Size([50, 784])\n",
      "torch.Size([50, 784])\n",
      "torch.Size([50, 784])\n",
      "torch.Size([50, 784])\n",
      "torch.Size([50, 784])\n",
      "torch.Size([50, 784])\n",
      "torch.Size([50, 784])\n",
      "torch.Size([50, 784])\n",
      "torch.Size([50, 784])\n",
      "torch.Size([50, 784])\n",
      "torch.Size([50, 784])\n",
      "torch.Size([50, 784])\n",
      "torch.Size([50, 784])\n",
      "torch.Size([50, 784])\n",
      "torch.Size([50, 784])\n",
      "torch.Size([50, 784])\n",
      "torch.Size([50, 784])\n",
      "torch.Size([50, 784])\n",
      "torch.Size([50, 784])\n",
      "torch.Size([50, 784])\n",
      "torch.Size([50, 784])\n",
      "torch.Size([50, 784])\n",
      "torch.Size([50, 784])\n",
      "torch.Size([50, 784])\n",
      "torch.Size([50, 784])\n",
      "torch.Size([50, 784])\n",
      "torch.Size([50, 784])\n",
      "torch.Size([50, 784])\n",
      "torch.Size([50, 784])\n",
      "torch.Size([50, 784])\n",
      "torch.Size([50, 784])\n",
      "torch.Size([50, 784])\n",
      "torch.Size([50, 784])\n",
      "torch.Size([50, 784])\n",
      "torch.Size([50, 784])\n",
      "torch.Size([50, 784])\n",
      "torch.Size([50, 784])\n",
      "torch.Size([50, 784])\n",
      "torch.Size([50, 784])\n",
      "torch.Size([50, 784])\n",
      "torch.Size([50, 784])\n",
      "torch.Size([50, 784])\n",
      "torch.Size([50, 784])\n",
      "torch.Size([50, 784])\n",
      "torch.Size([50, 784])\n",
      "torch.Size([50, 784])\n",
      "torch.Size([50, 784])\n",
      "torch.Size([50, 784])\n",
      "torch.Size([50, 784])\n",
      "torch.Size([50, 784])\n",
      "torch.Size([50, 784])\n",
      "torch.Size([50, 784])\n",
      "torch.Size([50, 784])\n",
      "torch.Size([50, 784])\n",
      "torch.Size([50, 784])\n",
      "torch.Size([50, 784])\n",
      "torch.Size([50, 784])\n",
      "torch.Size([50, 784])\n",
      "torch.Size([50, 784])\n",
      "torch.Size([50, 784])\n",
      "torch.Size([50, 784])\n",
      "torch.Size([50, 784])\n",
      "torch.Size([50, 784])\n",
      "torch.Size([50, 784])\n",
      "torch.Size([50, 784])\n",
      "torch.Size([50, 784])\n",
      "torch.Size([50, 784])\n",
      "torch.Size([50, 784])\n",
      "torch.Size([50, 784])\n",
      "torch.Size([50, 784])\n",
      "torch.Size([50, 784])\n",
      "torch.Size([50, 784])\n",
      "torch.Size([50, 784])\n",
      "torch.Size([50, 784])\n",
      "torch.Size([50, 784])\n",
      "torch.Size([50, 784])\n",
      "torch.Size([50, 784])\n",
      "torch.Size([50, 784])\n",
      "torch.Size([50, 784])\n",
      "torch.Size([50, 784])\n",
      "torch.Size([50, 784])\n",
      "torch.Size([50, 784])\n",
      "torch.Size([50, 784])\n",
      "torch.Size([50, 784])\n",
      "torch.Size([50, 784])\n",
      "torch.Size([50, 784])\n",
      "torch.Size([50, 784])\n",
      "torch.Size([50, 784])\n",
      "torch.Size([50, 784])\n",
      "torch.Size([50, 784])\n",
      "torch.Size([50, 784])\n",
      "torch.Size([50, 784])\n",
      "torch.Size([50, 784])\n",
      "torch.Size([50, 784])\n",
      "torch.Size([50, 784])\n",
      "torch.Size([50, 784])\n",
      "torch.Size([50, 784])\n",
      "torch.Size([50, 784])\n",
      "torch.Size([50, 784])\n",
      "torch.Size([50, 784])\n",
      "torch.Size([50, 784])\n",
      "torch.Size([50, 784])\n",
      "torch.Size([50, 784])\n",
      "torch.Size([50, 784])\n",
      "torch.Size([50, 784])\n",
      "torch.Size([50, 784])\n",
      "torch.Size([50, 784])\n",
      "torch.Size([50, 784])\n",
      "torch.Size([50, 784])\n",
      "torch.Size([50, 784])\n",
      "torch.Size([50, 784])\n",
      "torch.Size([50, 784])\n",
      "torch.Size([50, 784])\n",
      "torch.Size([50, 784])\n",
      "torch.Size([50, 784])\n",
      "torch.Size([50, 784])\n",
      "torch.Size([50, 784])\n",
      "torch.Size([50, 784])\n",
      "torch.Size([50, 784])\n",
      "torch.Size([50, 784])\n",
      "torch.Size([50, 784])\n",
      "torch.Size([50, 784])\n",
      "torch.Size([50, 784])\n",
      "torch.Size([50, 784])\n",
      "torch.Size([50, 784])\n",
      "torch.Size([50, 784])\n",
      "torch.Size([50, 784])\n",
      "torch.Size([50, 784])\n",
      "torch.Size([50, 784])\n",
      "torch.Size([50, 784])\n",
      "torch.Size([50, 784])\n",
      "torch.Size([50, 784])\n",
      "torch.Size([50, 784])\n",
      "torch.Size([50, 784])\n",
      "torch.Size([50, 784])\n",
      "torch.Size([50, 784])\n",
      "torch.Size([50, 784])\n",
      "torch.Size([50, 784])\n",
      "torch.Size([50, 784])\n",
      "torch.Size([50, 784])\n",
      "torch.Size([50, 784])\n",
      "torch.Size([50, 784])\n",
      "torch.Size([50, 784])\n",
      "torch.Size([50, 784])\n",
      "torch.Size([50, 784])\n",
      "torch.Size([50, 784])\n",
      "torch.Size([50, 784])\n",
      "torch.Size([50, 784])\n",
      "torch.Size([50, 784])\n",
      "torch.Size([50, 784])\n",
      "torch.Size([50, 784])\n",
      "torch.Size([50, 784])\n",
      "torch.Size([50, 784])\n",
      "torch.Size([50, 784])\n",
      "torch.Size([50, 784])\n",
      "torch.Size([50, 784])\n",
      "torch.Size([50, 784])\n",
      "torch.Size([50, 784])\n",
      "torch.Size([50, 784])\n",
      "torch.Size([50, 784])\n",
      "torch.Size([50, 784])\n",
      "torch.Size([50, 784])\n",
      "torch.Size([50, 784])\n",
      "torch.Size([50, 784])\n",
      "torch.Size([50, 784])\n",
      "torch.Size([50, 784])\n",
      "torch.Size([50, 784])\n",
      "torch.Size([50, 784])\n",
      "torch.Size([50, 784])\n",
      "torch.Size([50, 784])\n",
      "torch.Size([50, 784])\n",
      "torch.Size([50, 784])\n",
      "torch.Size([50, 784])\n",
      "torch.Size([50, 784])\n",
      "torch.Size([50, 784])\n",
      "torch.Size([50, 784])\n",
      "torch.Size([50, 784])\n",
      "torch.Size([50, 784])\n",
      "torch.Size([50, 784])\n",
      "torch.Size([50, 784])\n",
      "torch.Size([50, 784])\n",
      "torch.Size([50, 784])\n",
      "torch.Size([50, 784])\n",
      "torch.Size([50, 784])\n",
      "torch.Size([50, 784])\n",
      "torch.Size([50, 784])\n",
      "torch.Size([50, 784])\n",
      "torch.Size([50, 784])\n",
      "torch.Size([50, 784])\n",
      "torch.Size([50, 784])\n",
      "torch.Size([50, 784])\n",
      "torch.Size([50, 784])\n",
      "torch.Size([50, 784])\n",
      "torch.Size([50, 784])\n",
      "torch.Size([50, 784])\n",
      "torch.Size([50, 784])\n",
      "torch.Size([50, 784])\n",
      "torch.Size([50, 784])\n",
      "torch.Size([50, 784])\n",
      "torch.Size([50, 784])\n",
      "torch.Size([50, 784])\n",
      "torch.Size([50, 784])\n",
      "torch.Size([50, 784])\n",
      "torch.Size([50, 784])\n",
      "torch.Size([50, 784])\n",
      "torch.Size([50, 784])\n",
      "torch.Size([50, 784])\n",
      "torch.Size([50, 784])\n",
      "torch.Size([50, 784])\n",
      "torch.Size([50, 784])\n",
      "torch.Size([50, 784])\n",
      "torch.Size([50, 784])\n",
      "torch.Size([50, 784])\n",
      "torch.Size([50, 784])\n",
      "torch.Size([50, 784])\n",
      "torch.Size([50, 784])\n",
      "torch.Size([50, 784])\n",
      "torch.Size([50, 784])\n",
      "torch.Size([50, 784])\n",
      "torch.Size([50, 784])\n",
      "torch.Size([50, 784])\n",
      "torch.Size([50, 784])\n",
      "torch.Size([50, 784])\n",
      "torch.Size([50, 784])\n",
      "torch.Size([50, 784])\n",
      "torch.Size([50, 784])\n",
      "torch.Size([50, 784])\n",
      "torch.Size([50, 784])\n",
      "torch.Size([50, 784])\n",
      "torch.Size([50, 784])\n",
      "torch.Size([50, 784])\n",
      "torch.Size([50, 784])\n",
      "torch.Size([50, 784])\n",
      "torch.Size([50, 784])\n",
      "torch.Size([50, 784])\n",
      "torch.Size([50, 784])\n",
      "torch.Size([50, 784])\n",
      "torch.Size([50, 784])\n",
      "torch.Size([50, 784])\n",
      "torch.Size([50, 784])\n",
      "torch.Size([50, 784])\n",
      "torch.Size([50, 784])\n",
      "torch.Size([50, 784])\n",
      "torch.Size([50, 784])\n",
      "torch.Size([50, 784])\n",
      "torch.Size([50, 784])\n",
      "torch.Size([50, 784])\n",
      "torch.Size([50, 784])\n",
      "torch.Size([50, 784])\n",
      "torch.Size([50, 784])\n",
      "torch.Size([50, 784])\n",
      "torch.Size([50, 784])\n",
      "torch.Size([50, 784])\n",
      "torch.Size([50, 784])\n",
      "torch.Size([50, 784])\n",
      "torch.Size([50, 784])\n",
      "torch.Size([50, 784])\n",
      "torch.Size([50, 784])\n",
      "torch.Size([50, 784])\n",
      "torch.Size([50, 784])\n",
      "torch.Size([50, 784])\n",
      "torch.Size([50, 784])\n",
      "torch.Size([50, 784])\n",
      "torch.Size([50, 784])\n",
      "torch.Size([50, 784])\n",
      "torch.Size([50, 784])\n",
      "torch.Size([50, 784])\n",
      "torch.Size([50, 784])\n",
      "torch.Size([50, 784])\n",
      "torch.Size([50, 784])\n",
      "torch.Size([50, 784])\n",
      "torch.Size([50, 784])\n",
      "torch.Size([50, 784])\n",
      "torch.Size([50, 784])\n",
      "torch.Size([50, 784])\n",
      "torch.Size([50, 784])\n",
      "torch.Size([50, 784])\n",
      "torch.Size([50, 784])\n",
      "torch.Size([50, 784])\n",
      "torch.Size([50, 784])\n",
      "torch.Size([50, 784])\n",
      "torch.Size([50, 784])\n",
      "torch.Size([50, 784])\n",
      "torch.Size([50, 784])\n",
      "torch.Size([50, 784])\n",
      "torch.Size([50, 784])\n",
      "torch.Size([50, 784])\n",
      "torch.Size([50, 784])\n",
      "torch.Size([50, 784])\n",
      "torch.Size([50, 784])\n",
      "torch.Size([50, 784])\n",
      "torch.Size([50, 784])\n",
      "torch.Size([50, 784])\n",
      "torch.Size([50, 784])\n",
      "torch.Size([50, 784])\n",
      "torch.Size([50, 784])\n",
      "torch.Size([50, 784])\n",
      "torch.Size([50, 784])\n",
      "torch.Size([50, 784])\n",
      "torch.Size([50, 784])\n",
      "torch.Size([50, 784])\n",
      "torch.Size([50, 784])\n",
      "torch.Size([50, 784])\n",
      "torch.Size([50, 784])\n",
      "torch.Size([50, 784])\n",
      "torch.Size([50, 784])\n",
      "torch.Size([50, 784])\n",
      "torch.Size([50, 784])\n",
      "torch.Size([50, 784])\n",
      "torch.Size([50, 784])\n",
      "torch.Size([50, 784])\n",
      "torch.Size([50, 784])\n",
      "torch.Size([50, 784])\n",
      "torch.Size([50, 784])\n",
      "torch.Size([50, 784])\n",
      "torch.Size([50, 784])\n",
      "torch.Size([50, 784])\n",
      "torch.Size([50, 784])\n",
      "torch.Size([50, 784])\n",
      "torch.Size([50, 784])\n",
      "torch.Size([50, 784])\n",
      "torch.Size([50, 784])\n",
      "torch.Size([50, 784])\n",
      "torch.Size([50, 784])\n",
      "torch.Size([50, 784])\n",
      "torch.Size([50, 784])\n",
      "torch.Size([50, 784])\n",
      "torch.Size([50, 784])\n",
      "torch.Size([50, 784])\n",
      "torch.Size([50, 784])\n",
      "torch.Size([50, 784])\n",
      "torch.Size([50, 784])\n",
      "torch.Size([50, 784])\n",
      "torch.Size([50, 784])\n",
      "torch.Size([50, 784])\n",
      "torch.Size([50, 784])\n",
      "torch.Size([50, 784])\n",
      "torch.Size([50, 784])\n",
      "torch.Size([50, 784])\n",
      "torch.Size([50, 784])\n",
      "torch.Size([50, 784])\n",
      "torch.Size([50, 784])\n",
      "torch.Size([50, 784])\n",
      "torch.Size([50, 784])\n",
      "torch.Size([50, 784])\n",
      "torch.Size([50, 784])\n",
      "torch.Size([50, 784])\n",
      "torch.Size([50, 784])\n",
      "torch.Size([50, 784])\n",
      "torch.Size([50, 784])\n",
      "torch.Size([50, 784])\n",
      "torch.Size([50, 784])\n",
      "torch.Size([50, 784])\n",
      "torch.Size([50, 784])\n",
      "torch.Size([50, 784])\n",
      "torch.Size([50, 784])\n",
      "torch.Size([50, 784])\n",
      "torch.Size([50, 784])\n",
      "torch.Size([50, 784])\n",
      "torch.Size([50, 784])\n",
      "torch.Size([50, 784])\n",
      "torch.Size([50, 784])\n",
      "torch.Size([50, 784])\n",
      "torch.Size([50, 784])\n",
      "torch.Size([50, 784])\n",
      "torch.Size([50, 784])\n",
      "torch.Size([50, 784])\n",
      "torch.Size([50, 784])\n",
      "torch.Size([50, 784])\n",
      "torch.Size([50, 784])\n",
      "torch.Size([50, 784])\n",
      "torch.Size([50, 784])\n",
      "torch.Size([50, 784])\n",
      "torch.Size([50, 784])\n",
      "torch.Size([50, 784])\n",
      "torch.Size([50, 784])\n",
      "torch.Size([50, 784])\n",
      "torch.Size([50, 784])\n",
      "torch.Size([50, 784])\n",
      "torch.Size([50, 784])\n",
      "torch.Size([50, 784])\n",
      "torch.Size([50, 784])\n",
      "torch.Size([50, 784])\n",
      "torch.Size([50, 784])\n",
      "torch.Size([50, 784])\n",
      "torch.Size([50, 784])\n",
      "torch.Size([50, 784])\n",
      "torch.Size([50, 784])\n",
      "torch.Size([50, 784])\n",
      "torch.Size([50, 784])\n",
      "torch.Size([50, 784])\n",
      "torch.Size([50, 784])\n",
      "torch.Size([50, 784])\n",
      "torch.Size([50, 784])\n",
      "torch.Size([50, 784])\n",
      "torch.Size([50, 784])\n",
      "torch.Size([50, 784])\n",
      "torch.Size([50, 784])\n",
      "torch.Size([50, 784])\n",
      "torch.Size([50, 784])\n",
      "torch.Size([50, 784])\n",
      "torch.Size([50, 784])\n",
      "torch.Size([50, 784])\n",
      "torch.Size([50, 784])\n",
      "torch.Size([50, 784])\n",
      "torch.Size([50, 784])\n",
      "torch.Size([50, 784])\n",
      "torch.Size([50, 784])\n",
      "torch.Size([50, 784])\n",
      "torch.Size([50, 784])\n",
      "torch.Size([50, 784])\n",
      "torch.Size([50, 784])\n",
      "torch.Size([50, 784])\n",
      "torch.Size([50, 784])\n",
      "torch.Size([50, 784])\n",
      "torch.Size([50, 784])\n",
      "torch.Size([50, 784])\n",
      "torch.Size([50, 784])\n",
      "torch.Size([50, 784])\n",
      "torch.Size([50, 784])\n",
      "torch.Size([50, 784])\n",
      "torch.Size([50, 784])\n",
      "torch.Size([50, 784])\n",
      "torch.Size([50, 784])\n",
      "torch.Size([50, 784])\n",
      "torch.Size([50, 784])\n",
      "torch.Size([50, 784])\n",
      "torch.Size([50, 784])\n",
      "torch.Size([50, 784])\n",
      "torch.Size([50, 784])\n",
      "torch.Size([50, 784])\n",
      "torch.Size([50, 784])\n",
      "torch.Size([50, 784])\n",
      "torch.Size([50, 784])\n",
      "torch.Size([50, 784])\n",
      "torch.Size([50, 784])\n",
      "torch.Size([50, 784])\n",
      "torch.Size([50, 784])\n",
      "torch.Size([50, 784])\n",
      "torch.Size([50, 784])\n",
      "torch.Size([50, 784])\n",
      "torch.Size([50, 784])\n",
      "torch.Size([50, 784])\n",
      "torch.Size([50, 784])\n",
      "torch.Size([50, 784])\n",
      "torch.Size([50, 784])\n",
      "torch.Size([50, 784])\n",
      "torch.Size([50, 784])\n",
      "torch.Size([50, 784])\n",
      "torch.Size([50, 784])\n",
      "torch.Size([50, 784])\n",
      "torch.Size([50, 784])\n",
      "torch.Size([50, 784])\n",
      "torch.Size([50, 784])\n",
      "torch.Size([50, 784])\n",
      "torch.Size([50, 784])\n",
      "torch.Size([50, 784])\n",
      "torch.Size([50, 784])\n",
      "torch.Size([50, 784])\n",
      "torch.Size([50, 784])\n",
      "torch.Size([50, 784])\n",
      "torch.Size([50, 784])\n",
      "torch.Size([50, 784])\n",
      "torch.Size([50, 784])\n",
      "torch.Size([50, 784])\n",
      "torch.Size([50, 784])\n",
      "torch.Size([50, 784])\n",
      "torch.Size([50, 784])\n",
      "torch.Size([50, 784])\n",
      "torch.Size([50, 784])\n",
      "torch.Size([50, 784])\n",
      "torch.Size([50, 784])\n",
      "torch.Size([50, 784])\n",
      "torch.Size([50, 784])\n",
      "torch.Size([50, 784])\n",
      "torch.Size([50, 784])\n",
      "torch.Size([50, 784])\n",
      "torch.Size([50, 784])\n",
      "torch.Size([50, 784])\n",
      "torch.Size([50, 784])\n",
      "torch.Size([50, 784])\n",
      "torch.Size([50, 784])\n",
      "torch.Size([50, 784])\n",
      "torch.Size([50, 784])\n",
      "torch.Size([50, 784])\n",
      "torch.Size([50, 784])\n",
      "torch.Size([50, 784])\n",
      "torch.Size([50, 784])\n",
      "torch.Size([50, 784])\n",
      "torch.Size([50, 784])\n",
      "torch.Size([50, 784])\n",
      "torch.Size([50, 784])\n",
      "torch.Size([50, 784])\n",
      "torch.Size([50, 784])\n",
      "torch.Size([50, 784])\n",
      "torch.Size([50, 784])\n",
      "torch.Size([50, 784])\n",
      "torch.Size([50, 784])\n",
      "torch.Size([50, 784])\n",
      "torch.Size([50, 784])\n",
      "torch.Size([50, 784])\n",
      "torch.Size([50, 784])\n",
      "torch.Size([50, 784])\n",
      "torch.Size([50, 784])\n",
      "torch.Size([50, 784])\n",
      "torch.Size([50, 784])\n",
      "torch.Size([50, 784])\n",
      "torch.Size([50, 784])\n",
      "torch.Size([50, 784])\n",
      "torch.Size([50, 784])\n",
      "torch.Size([50, 784])\n",
      "torch.Size([50, 784])\n",
      "torch.Size([50, 784])\n",
      "torch.Size([50, 784])\n",
      "torch.Size([50, 784])\n",
      "torch.Size([50, 784])\n",
      "torch.Size([50, 784])\n",
      "torch.Size([50, 784])\n",
      "torch.Size([50, 784])\n",
      "torch.Size([50, 784])\n",
      "torch.Size([50, 784])\n",
      "torch.Size([50, 784])\n",
      "torch.Size([50, 784])\n",
      "torch.Size([50, 784])\n",
      "torch.Size([50, 784])\n",
      "torch.Size([50, 784])\n",
      "torch.Size([50, 784])\n",
      "torch.Size([50, 784])\n",
      "torch.Size([50, 784])\n",
      "torch.Size([50, 784])\n",
      "torch.Size([50, 784])\n",
      "torch.Size([50, 784])\n",
      "torch.Size([50, 784])\n",
      "torch.Size([50, 784])\n",
      "torch.Size([50, 784])\n",
      "torch.Size([50, 784])\n",
      "torch.Size([50, 784])\n",
      "torch.Size([50, 784])\n",
      "torch.Size([50, 784])\n",
      "torch.Size([50, 784])\n",
      "torch.Size([50, 784])\n",
      "torch.Size([50, 784])\n",
      "torch.Size([50, 784])\n",
      "torch.Size([50, 784])\n",
      "torch.Size([50, 784])\n",
      "torch.Size([50, 784])\n",
      "torch.Size([50, 784])\n",
      "torch.Size([50, 784])\n",
      "torch.Size([50, 784])\n",
      "torch.Size([50, 784])\n",
      "torch.Size([50, 784])\n",
      "torch.Size([50, 784])\n",
      "torch.Size([50, 784])\n",
      "torch.Size([50, 784])\n",
      "torch.Size([50, 784])\n",
      "torch.Size([50, 784])\n",
      "torch.Size([50, 784])\n",
      "torch.Size([50, 784])\n",
      "torch.Size([50, 784])\n",
      "torch.Size([50, 784])\n",
      "torch.Size([50, 784])\n",
      "torch.Size([50, 784])\n",
      "torch.Size([50, 784])\n",
      "torch.Size([50, 784])\n",
      "torch.Size([50, 784])\n",
      "torch.Size([50, 784])\n",
      "torch.Size([50, 784])\n",
      "torch.Size([50, 784])\n",
      "torch.Size([50, 784])\n",
      "torch.Size([50, 784])\n",
      "torch.Size([50, 784])\n",
      "torch.Size([50, 784])\n",
      "torch.Size([50, 784])\n",
      "torch.Size([50, 784])\n",
      "torch.Size([50, 784])\n",
      "torch.Size([50, 784])\n",
      "torch.Size([50, 784])\n",
      "torch.Size([50, 784])\n",
      "torch.Size([50, 784])\n",
      "torch.Size([50, 784])\n",
      "torch.Size([50, 784])\n",
      "torch.Size([50, 784])\n",
      "torch.Size([50, 784])\n",
      "torch.Size([50, 784])\n",
      "torch.Size([50, 784])\n",
      "torch.Size([50, 784])\n",
      "torch.Size([50, 784])\n",
      "torch.Size([50, 784])\n",
      "torch.Size([50, 784])\n",
      "torch.Size([50, 784])\n",
      "torch.Size([50, 784])\n",
      "torch.Size([50, 784])\n",
      "torch.Size([50, 784])\n",
      "torch.Size([50, 784])\n",
      "torch.Size([50, 784])\n",
      "torch.Size([50, 784])\n",
      "torch.Size([50, 784])\n",
      "torch.Size([50, 784])\n",
      "torch.Size([50, 784])\n",
      "torch.Size([50, 784])\n",
      "torch.Size([50, 784])\n",
      "torch.Size([50, 784])\n",
      "torch.Size([50, 784])\n",
      "torch.Size([50, 784])\n",
      "torch.Size([50, 784])\n",
      "torch.Size([50, 784])\n",
      "torch.Size([50, 784])\n",
      "torch.Size([50, 784])\n",
      "torch.Size([50, 784])\n",
      "torch.Size([50, 784])\n",
      "torch.Size([50, 784])\n",
      "torch.Size([50, 784])\n",
      "torch.Size([50, 784])\n",
      "torch.Size([50, 784])\n",
      "torch.Size([50, 784])\n",
      "torch.Size([50, 784])\n",
      "torch.Size([50, 784])\n",
      "torch.Size([50, 784])\n",
      "torch.Size([50, 784])\n",
      "torch.Size([50, 784])\n",
      "torch.Size([50, 784])\n",
      "torch.Size([50, 784])\n",
      "torch.Size([50, 784])\n",
      "torch.Size([50, 784])\n",
      "torch.Size([50, 784])\n",
      "torch.Size([50, 784])\n",
      "torch.Size([50, 784])\n",
      "torch.Size([50, 784])\n",
      "torch.Size([50, 784])\n",
      "torch.Size([50, 784])\n",
      "torch.Size([50, 784])\n",
      "torch.Size([50, 784])\n",
      "torch.Size([50, 784])\n",
      "torch.Size([50, 784])\n",
      "torch.Size([50, 784])\n",
      "torch.Size([50, 784])\n",
      "torch.Size([50, 784])\n",
      "torch.Size([50, 784])\n",
      "torch.Size([50, 784])\n",
      "torch.Size([50, 784])\n",
      "torch.Size([50, 784])\n",
      "torch.Size([50, 784])\n",
      "torch.Size([50, 784])\n",
      "torch.Size([50, 784])\n",
      "torch.Size([50, 784])\n",
      "torch.Size([50, 784])\n",
      "torch.Size([50, 784])\n",
      "torch.Size([50, 784])\n",
      "torch.Size([50, 784])\n",
      "torch.Size([50, 784])\n",
      "torch.Size([50, 784])\n",
      "torch.Size([50, 784])\n",
      "torch.Size([50, 784])\n",
      "torch.Size([50, 784])\n",
      "torch.Size([50, 784])\n",
      "torch.Size([50, 784])\n",
      "torch.Size([50, 784])\n",
      "torch.Size([50, 784])\n",
      "torch.Size([50, 784])\n",
      "torch.Size([50, 784])\n",
      "torch.Size([50, 784])\n",
      "torch.Size([50, 784])\n",
      "torch.Size([50, 784])\n",
      "torch.Size([50, 784])\n",
      "torch.Size([50, 784])\n",
      "torch.Size([50, 784])\n",
      "torch.Size([50, 784])\n",
      "torch.Size([50, 784])\n",
      "torch.Size([50, 784])\n",
      "torch.Size([50, 784])\n",
      "torch.Size([50, 784])\n",
      "torch.Size([50, 784])\n",
      "torch.Size([50, 784])\n",
      "torch.Size([50, 784])\n",
      "torch.Size([50, 784])\n",
      "torch.Size([50, 784])\n",
      "torch.Size([50, 784])\n",
      "torch.Size([50, 784])\n",
      "torch.Size([50, 784])\n",
      "torch.Size([50, 784])\n",
      "torch.Size([50, 784])\n",
      "torch.Size([50, 784])\n",
      "torch.Size([50, 784])\n",
      "torch.Size([50, 784])\n",
      "torch.Size([50, 784])\n",
      "torch.Size([50, 784])\n",
      "torch.Size([50, 784])\n",
      "torch.Size([50, 784])\n",
      "torch.Size([50, 784])\n",
      "torch.Size([50, 784])\n",
      "torch.Size([50, 784])\n",
      "torch.Size([50, 784])\n",
      "torch.Size([50, 784])\n"
     ]
    }
   ],
   "source": [
    "for xb, yb in train_dl:\n",
    "    print(xb.shape)"
   ]
  },
  {
   "cell_type": "code",
   "execution_count": 318,
   "id": "74a88ab8",
   "metadata": {},
   "outputs": [
    {
     "name": "stdout",
     "output_type": "stream",
     "text": [
      "\u001b[0;31mSignature:\u001b[0m \u001b[0mreport\u001b[0m\u001b[0;34m(\u001b[0m\u001b[0mloss\u001b[0m\u001b[0;34m,\u001b[0m \u001b[0mpreds\u001b[0m\u001b[0;34m,\u001b[0m \u001b[0myb\u001b[0m\u001b[0;34m)\u001b[0m\u001b[0;34m\u001b[0m\u001b[0;34m\u001b[0m\u001b[0m\n",
      "\u001b[0;31mDocstring:\u001b[0m <no docstring>\n",
      "\u001b[0;31mSource:\u001b[0m   \n",
      "\u001b[0;32mdef\u001b[0m \u001b[0mreport\u001b[0m\u001b[0;34m(\u001b[0m\u001b[0mloss\u001b[0m\u001b[0;34m,\u001b[0m \u001b[0mpreds\u001b[0m\u001b[0;34m,\u001b[0m \u001b[0myb\u001b[0m\u001b[0;34m)\u001b[0m\u001b[0;34m:\u001b[0m\u001b[0;34m\u001b[0m\n",
      "\u001b[0;34m\u001b[0m    \u001b[0mprint\u001b[0m\u001b[0;34m(\u001b[0m\u001b[0;34mf'{loss:.2f}, {accuracy(preds, yb):.2f}'\u001b[0m\u001b[0;34m)\u001b[0m\u001b[0;34m\u001b[0m\u001b[0;34m\u001b[0m\u001b[0m\n",
      "\u001b[0;31mFile:\u001b[0m      /var/folders/c8/mt_y_mg14_s14_slht8ds95w0000gn/T/ipykernel_16402/637282997.py\n",
      "\u001b[0;31mType:\u001b[0m      function"
     ]
    }
   ],
   "source": [
    "report??"
   ]
  },
  {
   "cell_type": "markdown",
   "id": "1b2cb6bc",
   "metadata": {},
   "source": [
    "### Multiprocessing dataloader"
   ]
  },
  {
   "cell_type": "code",
   "execution_count": 334,
   "id": "39a58834",
   "metadata": {},
   "outputs": [],
   "source": [
    "import torch.multiprocessing as mp\n",
    "from fastcore.basics import store_attr"
   ]
  },
  {
   "cell_type": "code",
   "execution_count": 335,
   "id": "ac58e6d4",
   "metadata": {},
   "outputs": [
    {
     "name": "stdout",
     "output_type": "stream",
     "text": [
      "\u001b[0;31mSignature:\u001b[0m\n",
      "\u001b[0mstore_attr\u001b[0m\u001b[0;34m(\u001b[0m\u001b[0;34m\u001b[0m\n",
      "\u001b[0;34m\u001b[0m    \u001b[0mnames\u001b[0m\u001b[0;34m=\u001b[0m\u001b[0;32mNone\u001b[0m\u001b[0;34m,\u001b[0m\u001b[0;34m\u001b[0m\n",
      "\u001b[0;34m\u001b[0m    \u001b[0mself\u001b[0m\u001b[0;34m=\u001b[0m\u001b[0;32mNone\u001b[0m\u001b[0;34m,\u001b[0m\u001b[0;34m\u001b[0m\n",
      "\u001b[0;34m\u001b[0m    \u001b[0mbut\u001b[0m\u001b[0;34m=\u001b[0m\u001b[0;34m''\u001b[0m\u001b[0;34m,\u001b[0m\u001b[0;34m\u001b[0m\n",
      "\u001b[0;34m\u001b[0m    \u001b[0mcast\u001b[0m\u001b[0;34m=\u001b[0m\u001b[0;32mFalse\u001b[0m\u001b[0;34m,\u001b[0m\u001b[0;34m\u001b[0m\n",
      "\u001b[0;34m\u001b[0m    \u001b[0mstore_args\u001b[0m\u001b[0;34m=\u001b[0m\u001b[0;32mNone\u001b[0m\u001b[0;34m,\u001b[0m\u001b[0;34m\u001b[0m\n",
      "\u001b[0;34m\u001b[0m    \u001b[0;34m**\u001b[0m\u001b[0mattrs\u001b[0m\u001b[0;34m,\u001b[0m\u001b[0;34m\u001b[0m\n",
      "\u001b[0;34m\u001b[0m\u001b[0;34m)\u001b[0m\u001b[0;34m\u001b[0m\u001b[0;34m\u001b[0m\u001b[0m\n",
      "\u001b[0;31mSource:\u001b[0m   \n",
      "\u001b[0;32mdef\u001b[0m \u001b[0mstore_attr\u001b[0m\u001b[0;34m(\u001b[0m\u001b[0mnames\u001b[0m\u001b[0;34m=\u001b[0m\u001b[0;32mNone\u001b[0m\u001b[0;34m,\u001b[0m \u001b[0mself\u001b[0m\u001b[0;34m=\u001b[0m\u001b[0;32mNone\u001b[0m\u001b[0;34m,\u001b[0m \u001b[0mbut\u001b[0m\u001b[0;34m=\u001b[0m\u001b[0;34m''\u001b[0m\u001b[0;34m,\u001b[0m \u001b[0mcast\u001b[0m\u001b[0;34m=\u001b[0m\u001b[0;32mFalse\u001b[0m\u001b[0;34m,\u001b[0m \u001b[0mstore_args\u001b[0m\u001b[0;34m=\u001b[0m\u001b[0;32mNone\u001b[0m\u001b[0;34m,\u001b[0m \u001b[0;34m**\u001b[0m\u001b[0mattrs\u001b[0m\u001b[0;34m)\u001b[0m\u001b[0;34m:\u001b[0m\u001b[0;34m\u001b[0m\n",
      "\u001b[0;34m\u001b[0m    \u001b[0;34m\"Store params named in comma-separated `names` from calling context into attrs in `self`\"\u001b[0m\u001b[0;34m\u001b[0m\n",
      "\u001b[0;34m\u001b[0m    \u001b[0mfr\u001b[0m \u001b[0;34m=\u001b[0m \u001b[0msys\u001b[0m\u001b[0;34m.\u001b[0m\u001b[0m_getframe\u001b[0m\u001b[0;34m(\u001b[0m\u001b[0;36m1\u001b[0m\u001b[0;34m)\u001b[0m\u001b[0;34m\u001b[0m\n",
      "\u001b[0;34m\u001b[0m    \u001b[0margs\u001b[0m \u001b[0;34m=\u001b[0m \u001b[0margnames\u001b[0m\u001b[0;34m(\u001b[0m\u001b[0mfr\u001b[0m\u001b[0;34m,\u001b[0m \u001b[0;32mTrue\u001b[0m\u001b[0;34m)\u001b[0m\u001b[0;34m\u001b[0m\n",
      "\u001b[0;34m\u001b[0m    \u001b[0;32mif\u001b[0m \u001b[0mself\u001b[0m\u001b[0;34m:\u001b[0m \u001b[0margs\u001b[0m \u001b[0;34m=\u001b[0m \u001b[0;34m(\u001b[0m\u001b[0;34m'self'\u001b[0m\u001b[0;34m,\u001b[0m \u001b[0;34m*\u001b[0m\u001b[0margs\u001b[0m\u001b[0;34m)\u001b[0m\u001b[0;34m\u001b[0m\n",
      "\u001b[0;34m\u001b[0m    \u001b[0;32melse\u001b[0m\u001b[0;34m:\u001b[0m \u001b[0mself\u001b[0m \u001b[0;34m=\u001b[0m \u001b[0mfr\u001b[0m\u001b[0;34m.\u001b[0m\u001b[0mf_locals\u001b[0m\u001b[0;34m[\u001b[0m\u001b[0margs\u001b[0m\u001b[0;34m[\u001b[0m\u001b[0;36m0\u001b[0m\u001b[0;34m]\u001b[0m\u001b[0;34m]\u001b[0m\u001b[0;34m\u001b[0m\n",
      "\u001b[0;34m\u001b[0m    \u001b[0;32mif\u001b[0m \u001b[0mstore_args\u001b[0m \u001b[0;32mis\u001b[0m \u001b[0;32mNone\u001b[0m\u001b[0;34m:\u001b[0m \u001b[0mstore_args\u001b[0m \u001b[0;34m=\u001b[0m \u001b[0;32mnot\u001b[0m \u001b[0mhasattr\u001b[0m\u001b[0;34m(\u001b[0m\u001b[0mself\u001b[0m\u001b[0;34m,\u001b[0m\u001b[0;34m'__slots__'\u001b[0m\u001b[0;34m)\u001b[0m\u001b[0;34m\u001b[0m\n",
      "\u001b[0;34m\u001b[0m    \u001b[0;32mif\u001b[0m \u001b[0mstore_args\u001b[0m \u001b[0;32mand\u001b[0m \u001b[0;32mnot\u001b[0m \u001b[0mhasattr\u001b[0m\u001b[0;34m(\u001b[0m\u001b[0mself\u001b[0m\u001b[0;34m,\u001b[0m \u001b[0;34m'__stored_args__'\u001b[0m\u001b[0;34m)\u001b[0m\u001b[0;34m:\u001b[0m \u001b[0mself\u001b[0m\u001b[0;34m.\u001b[0m\u001b[0m__stored_args__\u001b[0m \u001b[0;34m=\u001b[0m \u001b[0;34m{\u001b[0m\u001b[0;34m}\u001b[0m\u001b[0;34m\u001b[0m\n",
      "\u001b[0;34m\u001b[0m    \u001b[0manno\u001b[0m \u001b[0;34m=\u001b[0m \u001b[0mannotations\u001b[0m\u001b[0;34m(\u001b[0m\u001b[0mself\u001b[0m\u001b[0;34m)\u001b[0m \u001b[0;32mif\u001b[0m \u001b[0mcast\u001b[0m \u001b[0;32melse\u001b[0m \u001b[0;34m{\u001b[0m\u001b[0;34m}\u001b[0m\u001b[0;34m\u001b[0m\n",
      "\u001b[0;34m\u001b[0m    \u001b[0;32mif\u001b[0m \u001b[0mnames\u001b[0m \u001b[0;32mand\u001b[0m \u001b[0misinstance\u001b[0m\u001b[0;34m(\u001b[0m\u001b[0mnames\u001b[0m\u001b[0;34m,\u001b[0m\u001b[0mstr\u001b[0m\u001b[0;34m)\u001b[0m\u001b[0;34m:\u001b[0m \u001b[0mnames\u001b[0m \u001b[0;34m=\u001b[0m \u001b[0mre\u001b[0m\u001b[0;34m.\u001b[0m\u001b[0msplit\u001b[0m\u001b[0;34m(\u001b[0m\u001b[0;34m', *'\u001b[0m\u001b[0;34m,\u001b[0m \u001b[0mnames\u001b[0m\u001b[0;34m)\u001b[0m\u001b[0;34m\u001b[0m\n",
      "\u001b[0;34m\u001b[0m    \u001b[0mns\u001b[0m \u001b[0;34m=\u001b[0m \u001b[0mnames\u001b[0m \u001b[0;32mif\u001b[0m \u001b[0mnames\u001b[0m \u001b[0;32mis\u001b[0m \u001b[0;32mnot\u001b[0m \u001b[0;32mNone\u001b[0m \u001b[0;32melse\u001b[0m \u001b[0mgetattr\u001b[0m\u001b[0;34m(\u001b[0m\u001b[0mself\u001b[0m\u001b[0;34m,\u001b[0m \u001b[0;34m'__slots__'\u001b[0m\u001b[0;34m,\u001b[0m \u001b[0margs\u001b[0m\u001b[0;34m[\u001b[0m\u001b[0;36m1\u001b[0m\u001b[0;34m:\u001b[0m\u001b[0;34m]\u001b[0m\u001b[0;34m)\u001b[0m\u001b[0;34m\u001b[0m\n",
      "\u001b[0;34m\u001b[0m    \u001b[0madded\u001b[0m \u001b[0;34m=\u001b[0m \u001b[0;34m{\u001b[0m\u001b[0mn\u001b[0m\u001b[0;34m:\u001b[0m\u001b[0mfr\u001b[0m\u001b[0;34m.\u001b[0m\u001b[0mf_locals\u001b[0m\u001b[0;34m[\u001b[0m\u001b[0mn\u001b[0m\u001b[0;34m]\u001b[0m \u001b[0;32mfor\u001b[0m \u001b[0mn\u001b[0m \u001b[0;32min\u001b[0m \u001b[0mns\u001b[0m\u001b[0;34m}\u001b[0m\u001b[0;34m\u001b[0m\n",
      "\u001b[0;34m\u001b[0m    \u001b[0mattrs\u001b[0m \u001b[0;34m=\u001b[0m \u001b[0;34m{\u001b[0m\u001b[0;34m**\u001b[0m\u001b[0mattrs\u001b[0m\u001b[0;34m,\u001b[0m \u001b[0;34m**\u001b[0m\u001b[0madded\u001b[0m\u001b[0;34m}\u001b[0m\u001b[0;34m\u001b[0m\n",
      "\u001b[0;34m\u001b[0m    \u001b[0;32mif\u001b[0m \u001b[0misinstance\u001b[0m\u001b[0;34m(\u001b[0m\u001b[0mbut\u001b[0m\u001b[0;34m,\u001b[0m\u001b[0mstr\u001b[0m\u001b[0;34m)\u001b[0m\u001b[0;34m:\u001b[0m \u001b[0mbut\u001b[0m \u001b[0;34m=\u001b[0m \u001b[0mre\u001b[0m\u001b[0;34m.\u001b[0m\u001b[0msplit\u001b[0m\u001b[0;34m(\u001b[0m\u001b[0;34m', *'\u001b[0m\u001b[0;34m,\u001b[0m \u001b[0mbut\u001b[0m\u001b[0;34m)\u001b[0m\u001b[0;34m\u001b[0m\n",
      "\u001b[0;34m\u001b[0m    \u001b[0mattrs\u001b[0m \u001b[0;34m=\u001b[0m \u001b[0;34m{\u001b[0m\u001b[0mk\u001b[0m\u001b[0;34m:\u001b[0m\u001b[0mv\u001b[0m \u001b[0;32mfor\u001b[0m \u001b[0mk\u001b[0m\u001b[0;34m,\u001b[0m\u001b[0mv\u001b[0m \u001b[0;32min\u001b[0m \u001b[0mattrs\u001b[0m\u001b[0;34m.\u001b[0m\u001b[0mitems\u001b[0m\u001b[0;34m(\u001b[0m\u001b[0;34m)\u001b[0m \u001b[0;32mif\u001b[0m \u001b[0mk\u001b[0m \u001b[0;32mnot\u001b[0m \u001b[0;32min\u001b[0m \u001b[0mbut\u001b[0m\u001b[0;34m}\u001b[0m\u001b[0;34m\u001b[0m\n",
      "\u001b[0;34m\u001b[0m    \u001b[0;32mreturn\u001b[0m \u001b[0m_store_attr\u001b[0m\u001b[0;34m(\u001b[0m\u001b[0mself\u001b[0m\u001b[0;34m,\u001b[0m \u001b[0manno\u001b[0m\u001b[0;34m,\u001b[0m \u001b[0;34m**\u001b[0m\u001b[0mattrs\u001b[0m\u001b[0;34m)\u001b[0m\u001b[0;34m\u001b[0m\u001b[0;34m\u001b[0m\u001b[0m\n",
      "\u001b[0;31mFile:\u001b[0m      ~/anaconda3/lib/python3.10/site-packages/fastcore/basics.py\n",
      "\u001b[0;31mType:\u001b[0m      function"
     ]
    }
   ],
   "source": [
    "store_attr??"
   ]
  },
  {
   "cell_type": "code",
   "execution_count": 336,
   "id": "6560f794",
   "metadata": {},
   "outputs": [
    {
     "name": "stdout",
     "output_type": "stream",
     "text": [
      "torch.Size([2, 784])\n",
      "torch.Size([2, 784])\n"
     ]
    }
   ],
   "source": [
    "for o in map(train_ds.__getitem__, ([3, 6], [8, 1])):\n",
    "    print(o[0].shape)"
   ]
  },
  {
   "cell_type": "code",
   "execution_count": 337,
   "id": "0994eb35",
   "metadata": {},
   "outputs": [],
   "source": [
    "class DataLoader():\n",
    "    def __init__(self, ds, batchs, n_workers=-1, collate_fn=collate) -> None:\n",
    "        fc.store_attr()\n",
    "    \n",
    "    def __iter__(self):\n",
    "        with mp.Pool(self.n_workers) as ex: yield from ex.map(self.ds.__getitem__, iter(self.batchs))"
   ]
  },
  {
   "cell_type": "code",
   "execution_count": 338,
   "id": "ae8d500f",
   "metadata": {},
   "outputs": [],
   "source": [
    "class DataLoader():\n",
    "    def __init__(self, ds, batchs, n_workers=1, collate_fn=collate): fc.store_attr()\n",
    "    def __iter__(self):\n",
    "        with mp.Pool(self.n_workers) as ex: yield from ex.map(self.ds.__getitem__, iter(self.batchs))\n",
    "     "
   ]
  },
  {
   "cell_type": "code",
   "execution_count": 339,
   "id": "4768f55f",
   "metadata": {},
   "outputs": [
    {
     "name": "stdout",
     "output_type": "stream",
     "text": [
      "\u001b[0;31mSignature:\u001b[0m\n",
      "\u001b[0mmp\u001b[0m\u001b[0;34m.\u001b[0m\u001b[0mPool\u001b[0m\u001b[0;34m(\u001b[0m\u001b[0;34m\u001b[0m\n",
      "\u001b[0;34m\u001b[0m    \u001b[0mprocesses\u001b[0m\u001b[0;34m=\u001b[0m\u001b[0;32mNone\u001b[0m\u001b[0;34m,\u001b[0m\u001b[0;34m\u001b[0m\n",
      "\u001b[0;34m\u001b[0m    \u001b[0minitializer\u001b[0m\u001b[0;34m=\u001b[0m\u001b[0;32mNone\u001b[0m\u001b[0;34m,\u001b[0m\u001b[0;34m\u001b[0m\n",
      "\u001b[0;34m\u001b[0m    \u001b[0minitargs\u001b[0m\u001b[0;34m=\u001b[0m\u001b[0;34m(\u001b[0m\u001b[0;34m)\u001b[0m\u001b[0;34m,\u001b[0m\u001b[0;34m\u001b[0m\n",
      "\u001b[0;34m\u001b[0m    \u001b[0mmaxtasksperchild\u001b[0m\u001b[0;34m=\u001b[0m\u001b[0;32mNone\u001b[0m\u001b[0;34m,\u001b[0m\u001b[0;34m\u001b[0m\n",
      "\u001b[0;34m\u001b[0m\u001b[0;34m)\u001b[0m\u001b[0;34m\u001b[0m\u001b[0;34m\u001b[0m\u001b[0m\n",
      "\u001b[0;31mSource:\u001b[0m   \n",
      "    \u001b[0;32mdef\u001b[0m \u001b[0mPool\u001b[0m\u001b[0;34m(\u001b[0m\u001b[0mself\u001b[0m\u001b[0;34m,\u001b[0m \u001b[0mprocesses\u001b[0m\u001b[0;34m=\u001b[0m\u001b[0;32mNone\u001b[0m\u001b[0;34m,\u001b[0m \u001b[0minitializer\u001b[0m\u001b[0;34m=\u001b[0m\u001b[0;32mNone\u001b[0m\u001b[0;34m,\u001b[0m \u001b[0minitargs\u001b[0m\u001b[0;34m=\u001b[0m\u001b[0;34m(\u001b[0m\u001b[0;34m)\u001b[0m\u001b[0;34m,\u001b[0m\u001b[0;34m\u001b[0m\n",
      "\u001b[0;34m\u001b[0m             \u001b[0mmaxtasksperchild\u001b[0m\u001b[0;34m=\u001b[0m\u001b[0;32mNone\u001b[0m\u001b[0;34m)\u001b[0m\u001b[0;34m:\u001b[0m\u001b[0;34m\u001b[0m\n",
      "\u001b[0;34m\u001b[0m        \u001b[0;34m'''Returns a process pool object'''\u001b[0m\u001b[0;34m\u001b[0m\n",
      "\u001b[0;34m\u001b[0m        \u001b[0;32mfrom\u001b[0m \u001b[0;34m.\u001b[0m\u001b[0mpool\u001b[0m \u001b[0;32mimport\u001b[0m \u001b[0mPool\u001b[0m\u001b[0;34m\u001b[0m\n",
      "\u001b[0;34m\u001b[0m        \u001b[0;32mreturn\u001b[0m \u001b[0mPool\u001b[0m\u001b[0;34m(\u001b[0m\u001b[0mprocesses\u001b[0m\u001b[0;34m,\u001b[0m \u001b[0minitializer\u001b[0m\u001b[0;34m,\u001b[0m \u001b[0minitargs\u001b[0m\u001b[0;34m,\u001b[0m \u001b[0mmaxtasksperchild\u001b[0m\u001b[0;34m,\u001b[0m\u001b[0;34m\u001b[0m\n",
      "\u001b[0;34m\u001b[0m                    \u001b[0mcontext\u001b[0m\u001b[0;34m=\u001b[0m\u001b[0mself\u001b[0m\u001b[0;34m.\u001b[0m\u001b[0mget_context\u001b[0m\u001b[0;34m(\u001b[0m\u001b[0;34m)\u001b[0m\u001b[0;34m)\u001b[0m\u001b[0;34m\u001b[0m\u001b[0;34m\u001b[0m\u001b[0m\n",
      "\u001b[0;31mFile:\u001b[0m      ~/anaconda3/lib/python3.10/multiprocessing/context.py\n",
      "\u001b[0;31mType:\u001b[0m      method"
     ]
    }
   ],
   "source": [
    "mp.Pool??"
   ]
  },
  {
   "cell_type": "code",
   "execution_count": 340,
   "id": "d081a86e",
   "metadata": {},
   "outputs": [],
   "source": [
    "train_dl = DataLoader(train_ds, batchs=train_sampler, n_workers=1)"
   ]
  },
  {
   "cell_type": "code",
   "execution_count": 341,
   "id": "28c17d77",
   "metadata": {},
   "outputs": [],
   "source": [
    "it = iter(train_dl)"
   ]
  },
  {
   "cell_type": "code",
   "execution_count": 343,
   "id": "9e4cfab1",
   "metadata": {},
   "outputs": [],
   "source": [
    "# xb, yb = next(it)\n",
    "# xb.shape, yb.shape"
   ]
  },
  {
   "cell_type": "markdown",
   "id": "a70272ed",
   "metadata": {},
   "source": [
    "### PyTorch dataloader"
   ]
  },
  {
   "cell_type": "code",
   "execution_count": 373,
   "id": "70a8c3ba",
   "metadata": {},
   "outputs": [],
   "source": [
    "#| export\n",
    "from torch.utils.data import DataLoader, SequentialSampler, RandomSampler, BatchSampler"
   ]
  },
  {
   "cell_type": "code",
   "execution_count": 345,
   "id": "1a72ae6a",
   "metadata": {},
   "outputs": [],
   "source": [
    "train_samp = BatchSampler(RandomSampler(train_ds), bs, drop_last=False)\n",
    "valid_samp = BatchSampler(SequentialSampler(valid_ds), bs, drop_last=False)"
   ]
  },
  {
   "cell_type": "code",
   "execution_count": 359,
   "id": "852983f9",
   "metadata": {},
   "outputs": [],
   "source": [
    "train_dl = DataLoader(train_ds, batch_sampler=train_samp, collate_fn=collate)\n",
    "valid_dl = DataLoader(valid_ds, batch_sampler=valid_samp, collate_fn=collate)"
   ]
  },
  {
   "cell_type": "code",
   "execution_count": 360,
   "id": "e37cbccf",
   "metadata": {},
   "outputs": [
    {
     "data": {
      "text/plain": [
       "torch.Size([50, 784])"
      ]
     },
     "execution_count": 360,
     "metadata": {},
     "output_type": "execute_result"
    }
   ],
   "source": [
    "xb,yb = next(iter(train_dl))\n",
    "xb.shape"
   ]
  },
  {
   "cell_type": "code",
   "execution_count": 348,
   "id": "6858b0d9",
   "metadata": {},
   "outputs": [
    {
     "name": "stdout",
     "output_type": "stream",
     "text": [
      "0.28, 0.94\n",
      "0.04, 1.00\n",
      "0.13, 0.92\n"
     ]
    }
   ],
   "source": [
    "model, opt = get_model()\n",
    "fit()"
   ]
  },
  {
   "cell_type": "code",
   "execution_count": 349,
   "id": "9fdce504",
   "metadata": {},
   "outputs": [
    {
     "data": {
      "text/plain": [
       "(tensor(0.06, grad_fn=<NllLossBackward0>), tensor(0.98))"
      ]
     },
     "execution_count": 349,
     "metadata": {},
     "output_type": "execute_result"
    }
   ],
   "source": [
    "loss_func(model(xb), yb), accuracy(model(xb), yb)"
   ]
  },
  {
   "cell_type": "code",
   "execution_count": 350,
   "id": "5a148746",
   "metadata": {},
   "outputs": [
    {
     "name": "stdout",
     "output_type": "stream",
     "text": [
      "\u001b[0;31mSignature:\u001b[0m \u001b[0maccuracy\u001b[0m\u001b[0;34m(\u001b[0m\u001b[0mout\u001b[0m\u001b[0;34m,\u001b[0m \u001b[0myb\u001b[0m\u001b[0;34m)\u001b[0m\u001b[0;34m\u001b[0m\u001b[0;34m\u001b[0m\u001b[0m\n",
      "\u001b[0;31mDocstring:\u001b[0m <no docstring>\n",
      "\u001b[0;31mSource:\u001b[0m    \u001b[0;32mdef\u001b[0m \u001b[0maccuracy\u001b[0m\u001b[0;34m(\u001b[0m\u001b[0mout\u001b[0m\u001b[0;34m,\u001b[0m \u001b[0myb\u001b[0m\u001b[0;34m)\u001b[0m\u001b[0;34m:\u001b[0m \u001b[0;32mreturn\u001b[0m \u001b[0;34m(\u001b[0m\u001b[0mout\u001b[0m\u001b[0;34m.\u001b[0m\u001b[0margmax\u001b[0m\u001b[0;34m(\u001b[0m\u001b[0mdim\u001b[0m\u001b[0;34m=\u001b[0m\u001b[0;36m1\u001b[0m\u001b[0;34m)\u001b[0m \u001b[0;34m==\u001b[0m \u001b[0myb\u001b[0m\u001b[0;34m)\u001b[0m\u001b[0;34m.\u001b[0m\u001b[0mfloat\u001b[0m\u001b[0;34m(\u001b[0m\u001b[0;34m)\u001b[0m\u001b[0;34m.\u001b[0m\u001b[0mmean\u001b[0m\u001b[0;34m(\u001b[0m\u001b[0;34m)\u001b[0m\u001b[0;34m\u001b[0m\u001b[0;34m\u001b[0m\u001b[0m\n",
      "\u001b[0;31mFile:\u001b[0m      /var/folders/c8/mt_y_mg14_s14_slht8ds95w0000gn/T/ipykernel_16402/1039778300.py\n",
      "\u001b[0;31mType:\u001b[0m      function"
     ]
    }
   ],
   "source": [
    "accuracy??"
   ]
  },
  {
   "cell_type": "code",
   "execution_count": 352,
   "id": "a5a29563",
   "metadata": {},
   "outputs": [],
   "source": [
    "train_dl = DataLoader(train_ds, bs, shuffle=True, drop_last=True, num_workers=2)\n",
    "valid_dl = DataLoader(valid_ds, bs, shuffle=False, drop_last=True, num_workers=2)"
   ]
  },
  {
   "cell_type": "code",
   "execution_count": 353,
   "id": "1ec4d210",
   "metadata": {},
   "outputs": [
    {
     "name": "stderr",
     "output_type": "stream",
     "text": [
      "[W ParallelNative.cpp:230] Warning: Cannot set number of intraop threads after parallel work has started or after set_num_threads call when using native parallel backend (function set_num_threads)\n",
      "[W ParallelNative.cpp:230] Warning: Cannot set number of intraop threads after parallel work has started or after set_num_threads call when using native parallel backend (function set_num_threads)\n",
      "[W ParallelNative.cpp:230] Warning: Cannot set number of intraop threads after parallel work has started or after set_num_threads call when using native parallel backend (function set_num_threads)\n"
     ]
    },
    {
     "name": "stdout",
     "output_type": "stream",
     "text": [
      "0.14, 0.96\n"
     ]
    },
    {
     "name": "stderr",
     "output_type": "stream",
     "text": [
      "[W ParallelNative.cpp:230] Warning: Cannot set number of intraop threads after parallel work has started or after set_num_threads call when using native parallel backend (function set_num_threads)\n",
      "[W ParallelNative.cpp:230] Warning: Cannot set number of intraop threads after parallel work has started or after set_num_threads call when using native parallel backend (function set_num_threads)\n"
     ]
    },
    {
     "name": "stdout",
     "output_type": "stream",
     "text": [
      "0.17, 0.96\n"
     ]
    },
    {
     "name": "stderr",
     "output_type": "stream",
     "text": [
      "[W ParallelNative.cpp:230] Warning: Cannot set number of intraop threads after parallel work has started or after set_num_threads call when using native parallel backend (function set_num_threads)\n",
      "[W ParallelNative.cpp:230] Warning: Cannot set number of intraop threads after parallel work has started or after set_num_threads call when using native parallel backend (function set_num_threads)\n"
     ]
    },
    {
     "name": "stdout",
     "output_type": "stream",
     "text": [
      "0.20, 0.98\n"
     ]
    }
   ],
   "source": [
    "model, opt = get_model()\n",
    "fit()"
   ]
  },
  {
   "cell_type": "code",
   "execution_count": 354,
   "id": "e6ca6fc0",
   "metadata": {},
   "outputs": [
    {
     "data": {
      "text/plain": [
       "(tensor(0.20, grad_fn=<NllLossBackward0>), tensor(0.94))"
      ]
     },
     "execution_count": 354,
     "metadata": {},
     "output_type": "execute_result"
    }
   ],
   "source": [
    "loss_func(model(xb), yb), accuracy(model(xb), yb)"
   ]
  },
  {
   "cell_type": "code",
   "execution_count": 363,
   "id": "debde6c8",
   "metadata": {},
   "outputs": [],
   "source": [
    "train_dl = DataLoader(train_ds, sampler=train_samp, collate_fn=collate)\n",
    "valid_dl = DataLoader(valid_ds, sampler=valid_samp, collate_fn=collate)"
   ]
  },
  {
   "cell_type": "code",
   "execution_count": 364,
   "id": "93880e42",
   "metadata": {},
   "outputs": [
    {
     "data": {
      "text/plain": [
       "(torch.Size([1, 50, 784]), torch.Size([1, 50]))"
      ]
     },
     "execution_count": 364,
     "metadata": {},
     "output_type": "execute_result"
    }
   ],
   "source": [
    "xb,yb = next(iter(train_dl))\n",
    "xb.shape,yb.shape"
   ]
  },
  {
   "cell_type": "code",
   "execution_count": 365,
   "id": "8a486477",
   "metadata": {},
   "outputs": [],
   "source": [
    "train_dl = DataLoader(train_ds, batch_sampler=train_samp)\n",
    "valid_dl = DataLoader(valid_ds, batch_sampler=valid_samp)"
   ]
  },
  {
   "cell_type": "code",
   "execution_count": 366,
   "id": "462661f9",
   "metadata": {},
   "outputs": [
    {
     "data": {
      "text/plain": [
       "(torch.Size([50, 784]), torch.Size([50]))"
      ]
     },
     "execution_count": 366,
     "metadata": {},
     "output_type": "execute_result"
    }
   ],
   "source": [
    "xb,yb = next(iter(train_dl))\n",
    "xb.shape,yb.shape"
   ]
  },
  {
   "cell_type": "code",
   "execution_count": 367,
   "id": "7236a008",
   "metadata": {},
   "outputs": [],
   "source": [
    "# DataLoader??"
   ]
  },
  {
   "cell_type": "markdown",
   "id": "9f142376",
   "metadata": {},
   "source": [
    "### Validation"
   ]
  },
  {
   "cell_type": "code",
   "execution_count": 392,
   "id": "0fa249f5",
   "metadata": {},
   "outputs": [],
   "source": [
    "#| export\n",
    "def fit(epochs, model, loss_func, opt, train_dl, valid_dl):\n",
    "    for epoch in range(epochs):\n",
    "        model.train()\n",
    "        for xb, yb in train_dl:\n",
    "            preds = model(xb)\n",
    "            loss = loss_func(preds, yb)\n",
    "            loss.backward()\n",
    "            opt.step()\n",
    "            opt.zero_grad()\n",
    "            # eval\n",
    "        \n",
    "        model.eval()\n",
    "        with torch.no_grad():\n",
    "            tot_loss,tot_acc,count = 0.,0.,0\n",
    "            for xb,yb in valid_dl:\n",
    "                preds = model(xb)\n",
    "                loss = loss_func(preds, yb)\n",
    "                n = len(xb)\n",
    "                count += n\n",
    "                acc = accuracy(preds, yb)\n",
    "                tot_acc += acc.item()*n\n",
    "                tot_loss += loss.item()*n\n",
    "        \n",
    "        print(epoch, tot_loss/count, tot_acc/count)\n",
    "    \n",
    "    return tot_loss/count, tot_acc/count"
   ]
  },
  {
   "cell_type": "code",
   "execution_count": 393,
   "id": "e9808ad0",
   "metadata": {},
   "outputs": [],
   "source": [
    "#| export\n",
    "def get_dls(train_ds, valid_ds, bs, **kwargs):\n",
    "    return (\n",
    "        DataLoader(train_ds, batch_size=bs, shuffle=True, **kwargs),\n",
    "        DataLoader(valid_ds, batch_size=bs*2, **kwargs)\n",
    "    )"
   ]
  },
  {
   "cell_type": "code",
   "execution_count": 394,
   "id": "f0b83731",
   "metadata": {},
   "outputs": [],
   "source": [
    "train_dl, valid_dl = get_dls(train_ds, valid_ds, bs)"
   ]
  },
  {
   "cell_type": "code",
   "execution_count": 386,
   "id": "d26cf4ba",
   "metadata": {},
   "outputs": [
    {
     "data": {
      "text/plain": [
       "[tensor([[0., 0., 0.,  ..., 0., 0., 0.],\n",
       "         [0., 0., 0.,  ..., 0., 0., 0.],\n",
       "         [0., 0., 0.,  ..., 0., 0., 0.],\n",
       "         ...,\n",
       "         [0., 0., 0.,  ..., 0., 0., 0.],\n",
       "         [0., 0., 0.,  ..., 0., 0., 0.],\n",
       "         [0., 0., 0.,  ..., 0., 0., 0.]]),\n",
       " tensor([3, 8, 6, 9, 6, 4, 5, 3, 8, 4, 5, 2, 3, 8, 4, 8, 1, 5, 0, 5, 9, 7, 4, 1, 0, 3, 0, 6, 2, 9, 9, 4, 1, 3, 6, 8, 0, 7, 7,\n",
       "         6, 8, 9, 0, 3, 8, 3, 7, 7, 8, 4, 4, 1, 2, 9, 8, 1, 1, 0, 6, 6, 5, 0, 1, 1, 7, 2, 7, 3, 1, 4, 0, 5, 0, 6, 8, 7, 6, 8,\n",
       "         9, 9, 4, 0, 6, 1, 9, 2, 6, 3, 9, 4, 4, 5, 6, 6, 1, 7, 2, 8, 6, 9])]"
      ]
     },
     "execution_count": 386,
     "metadata": {},
     "output_type": "execute_result"
    }
   ],
   "source": [
    "next(iter(valid_dl))"
   ]
  },
  {
   "cell_type": "code",
   "execution_count": 395,
   "id": "8b5f0932",
   "metadata": {},
   "outputs": [],
   "source": [
    "model, opt = get_model()"
   ]
  },
  {
   "cell_type": "code",
   "execution_count": 396,
   "id": "213f39d3",
   "metadata": {},
   "outputs": [
    {
     "name": "stdout",
     "output_type": "stream",
     "text": [
      "0 0.17548670867457986 0.9506000030040741\n",
      "1 0.13478024453856052 0.9609000033140183\n",
      "2 0.11017083771061152 0.968200004696846\n",
      "3 0.1121464530704543 0.968200005888939\n",
      "4 0.10743483421974816 0.9694000071287155\n"
     ]
    },
    {
     "data": {
      "text/plain": [
       "(0.10743483421974816, 0.9694000071287155)"
      ]
     },
     "execution_count": 396,
     "metadata": {},
     "output_type": "execute_result"
    }
   ],
   "source": [
    "fit(5, model, loss_func, opt, train_dl, valid_dl)"
   ]
  },
  {
   "cell_type": "code",
   "execution_count": 397,
   "id": "57cda2a0",
   "metadata": {},
   "outputs": [],
   "source": [
    "import nbdev; nbdev.nbdev_export()"
   ]
  },
  {
   "cell_type": "code",
   "execution_count": null,
   "id": "17de04cb",
   "metadata": {},
   "outputs": [],
   "source": []
  }
 ],
 "metadata": {
  "kernelspec": {
   "display_name": "Python 3 (ipykernel)",
   "language": "python",
   "name": "python3"
  },
  "language_info": {
   "codemirror_mode": {
    "name": "ipython",
    "version": 3
   },
   "file_extension": ".py",
   "mimetype": "text/x-python",
   "name": "python",
   "nbconvert_exporter": "python",
   "pygments_lexer": "ipython3",
   "version": "3.10.13"
  }
 },
 "nbformat": 4,
 "nbformat_minor": 5
}
