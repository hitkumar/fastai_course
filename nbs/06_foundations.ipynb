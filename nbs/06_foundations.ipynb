{
 "cells": [
  {
   "cell_type": "markdown",
   "id": "5792ea2d",
   "metadata": {},
   "source": [
    "#### concepts to know about\n",
    "- partial\n",
    "- __call__ for classes\n",
    "- *args and **kwargs\n",
    "- callbacks\n",
    "- __dunder__ thingies"
   ]
  },
  {
   "cell_type": "code",
   "execution_count": null,
   "id": "2faf5d23",
   "metadata": {},
   "outputs": [],
   "source": [
    "import torch\n",
    "import matplotlib.pyplot as plt\n",
    "import random"
   ]
  },
  {
   "cell_type": "markdown",
   "id": "4ab12597",
   "metadata": {},
   "source": [
    "### Callbacks"
   ]
  },
  {
   "cell_type": "code",
   "execution_count": null,
   "id": "0cdf96e3",
   "metadata": {},
   "outputs": [],
   "source": [
    "import ipywidgets as widgets"
   ]
  },
  {
   "cell_type": "code",
   "execution_count": null,
   "id": "5a0c0966",
   "metadata": {},
   "outputs": [],
   "source": [
    "w = widgets.Button(description='Click me')"
   ]
  },
  {
   "cell_type": "code",
   "execution_count": null,
   "id": "7ca93dfc",
   "metadata": {},
   "outputs": [],
   "source": [
    "def f(o): print('hi')"
   ]
  },
  {
   "cell_type": "code",
   "execution_count": null,
   "id": "d8807c7d",
   "metadata": {},
   "outputs": [],
   "source": [
    "w.on_click(f)"
   ]
  },
  {
   "cell_type": "code",
   "execution_count": null,
   "id": "a7a7e7d3",
   "metadata": {},
   "outputs": [],
   "source": [
    "w"
   ]
  },
  {
   "cell_type": "code",
   "execution_count": null,
   "id": "18bc312b",
   "metadata": {},
   "outputs": [],
   "source": [
    "w.click()"
   ]
  },
  {
   "cell_type": "code",
   "execution_count": null,
   "id": "8c4bfb7b",
   "metadata": {},
   "outputs": [],
   "source": [
    "from time import sleep"
   ]
  },
  {
   "cell_type": "code",
   "execution_count": null,
   "id": "e4d951c5",
   "metadata": {},
   "outputs": [],
   "source": [
    "def slow_calculation():\n",
    "    res = 0\n",
    "    for i in range(5):\n",
    "        res += i*i\n",
    "        sleep(1)\n",
    "    return res"
   ]
  },
  {
   "cell_type": "code",
   "execution_count": null,
   "id": "275fe031",
   "metadata": {},
   "outputs": [],
   "source": [
    "slow_calculation()"
   ]
  },
  {
   "cell_type": "code",
   "execution_count": null,
   "id": "b5f005f3",
   "metadata": {},
   "outputs": [],
   "source": [
    "def slow_calculation(cb=None):\n",
    "    res = 0\n",
    "    for i in range(5):\n",
    "        res += i*i\n",
    "        sleep(1)\n",
    "        if cb:\n",
    "            cb(i)\n",
    "    return res"
   ]
  },
  {
   "cell_type": "code",
   "execution_count": null,
   "id": "f78a1b43",
   "metadata": {},
   "outputs": [],
   "source": [
    "def show_progress(epoch):\n",
    "    print(f'Awesome! Epoch: {epoch}')"
   ]
  },
  {
   "cell_type": "code",
   "execution_count": null,
   "id": "aa88223e",
   "metadata": {},
   "outputs": [],
   "source": [
    "slow_calculation(show_progress)"
   ]
  },
  {
   "cell_type": "code",
   "execution_count": null,
   "id": "ea03e4e9",
   "metadata": {},
   "outputs": [],
   "source": [
    "slow_calculation(lambda epoch: print(f'Awesome! Epoch: {epoch}'))"
   ]
  },
  {
   "cell_type": "code",
   "execution_count": null,
   "id": "5ef93542",
   "metadata": {},
   "outputs": [],
   "source": [
    "def show_progress(exclamation, epoch):\n",
    "    print(f'Awesome! {exclamation}, epoch: {epoch}')"
   ]
  },
  {
   "cell_type": "code",
   "execution_count": null,
   "id": "28a91cb2",
   "metadata": {},
   "outputs": [],
   "source": [
    "slow_calculation(lambda epoch: show_progress('Job', epoch))"
   ]
  },
  {
   "cell_type": "code",
   "execution_count": null,
   "id": "b29ad961",
   "metadata": {},
   "outputs": [],
   "source": [
    "def f(a, b, c):\n",
    "    print(a, b, c)"
   ]
  },
  {
   "cell_type": "code",
   "execution_count": null,
   "id": "01702ff4",
   "metadata": {},
   "outputs": [],
   "source": [
    "from functools import partial"
   ]
  },
  {
   "cell_type": "code",
   "execution_count": null,
   "id": "d8f54470",
   "metadata": {},
   "outputs": [],
   "source": [
    "f(1, 2, 3)"
   ]
  },
  {
   "cell_type": "code",
   "execution_count": null,
   "id": "96f3144d",
   "metadata": {},
   "outputs": [],
   "source": [
    "g = partial(f, 1, 2)"
   ]
  },
  {
   "cell_type": "code",
   "execution_count": null,
   "id": "ba73d036",
   "metadata": {},
   "outputs": [],
   "source": [
    "g(3)"
   ]
  },
  {
   "cell_type": "code",
   "execution_count": null,
   "id": "fcc3de0b",
   "metadata": {},
   "outputs": [],
   "source": [
    "def make_show_progress(exclamation):\n",
    "    def _inner(epoch):\n",
    "        print(f'Awesome job {exclamation}, epoch: {epoch}')\n",
    "    return _inner"
   ]
  },
  {
   "cell_type": "code",
   "execution_count": null,
   "id": "4cf747e7",
   "metadata": {},
   "outputs": [],
   "source": [
    "slow_calculation(make_show_progress(\"Nice\"))"
   ]
  },
  {
   "cell_type": "code",
   "execution_count": null,
   "id": "4de13ce6",
   "metadata": {},
   "outputs": [],
   "source": [
    "slow_calculation(partial(show_progress, 'Nice'))"
   ]
  },
  {
   "cell_type": "markdown",
   "id": "f622da82",
   "metadata": {},
   "source": [
    "### Callbacks as callable classes"
   ]
  },
  {
   "cell_type": "code",
   "execution_count": null,
   "id": "cfc4654b",
   "metadata": {},
   "outputs": [],
   "source": [
    "class ProgressShowingCallback():\n",
    "    def __init__(self, exclamation): self.exclamation = exclamation\n",
    "    def __call__(self, epoch):\n",
    "        print(f'Awesome! {self.exclamation}, epoch: {epoch}')"
   ]
  },
  {
   "cell_type": "code",
   "execution_count": null,
   "id": "2448b117",
   "metadata": {},
   "outputs": [],
   "source": [
    "cb = ProgressShowingCallback(\"Nice\")"
   ]
  },
  {
   "cell_type": "code",
   "execution_count": null,
   "id": "c829f20d",
   "metadata": {},
   "outputs": [],
   "source": [
    "cb(1)"
   ]
  },
  {
   "cell_type": "code",
   "execution_count": null,
   "id": "c1384004",
   "metadata": {},
   "outputs": [],
   "source": [
    "slow_calculation(cb)"
   ]
  },
  {
   "cell_type": "markdown",
   "id": "ce373cae",
   "metadata": {},
   "source": [
    "### Multiple callback funcs; *args and **kwargs"
   ]
  },
  {
   "cell_type": "code",
   "execution_count": null,
   "id": "fc6e131d",
   "metadata": {},
   "outputs": [],
   "source": [
    "def f(*args, **kwargs):\n",
    "    # print(type(args), type(kwargs))\n",
    "    print(f\"args: {args}, kwargs: {kwargs}\")"
   ]
  },
  {
   "cell_type": "code",
   "execution_count": null,
   "id": "d19e0bf2",
   "metadata": {},
   "outputs": [],
   "source": [
    "f(3, 'a', thing1='hello')"
   ]
  },
  {
   "cell_type": "code",
   "execution_count": null,
   "id": "9833e9a4",
   "metadata": {},
   "outputs": [],
   "source": [
    "def g(a, b, c=0):\n",
    "    print(a, b, c)"
   ]
  },
  {
   "cell_type": "code",
   "execution_count": null,
   "id": "622df3fe",
   "metadata": {},
   "outputs": [],
   "source": [
    "args=[1,2]\n",
    "kwargs={'c': 3}\n",
    "g(*args, **kwargs)"
   ]
  },
  {
   "cell_type": "markdown",
   "id": "08a6ec0d",
   "metadata": {},
   "source": [
    "- Passing args and kwargs\n",
    "- Functions which accept these as params\n",
    "- Can be used to abosrb all the unused args as well"
   ]
  },
  {
   "cell_type": "code",
   "execution_count": null,
   "id": "ef34d6e0",
   "metadata": {},
   "outputs": [],
   "source": [
    "def slow_calculation(cb=None):\n",
    "    res = 0\n",
    "    for i in range(5):\n",
    "        if cb: cb.before_calc(i)\n",
    "        res += i*i\n",
    "        sleep(1)\n",
    "        if cb: cb.after_calc(i, res)\n",
    "    \n",
    "    return res"
   ]
  },
  {
   "cell_type": "code",
   "execution_count": null,
   "id": "a49255d5",
   "metadata": {},
   "outputs": [],
   "source": [
    "class PrintStepCallback():\n",
    "    def before_calc(self, *args, **kwargs): print('About to start')\n",
    "    def after_calc(self, *args, **kwarfs): print('Done')"
   ]
  },
  {
   "cell_type": "code",
   "execution_count": null,
   "id": "491402ff",
   "metadata": {},
   "outputs": [],
   "source": [
    "slow_calculation(PrintStepCallback())"
   ]
  },
  {
   "cell_type": "code",
   "execution_count": null,
   "id": "444bdcb4",
   "metadata": {},
   "outputs": [],
   "source": [
    "class PrintStatusCallback():\n",
    "    def before_calc(self, *args, **kwargs): print('About to start')\n",
    "    def after_calc(self, *args, **kwargs): print(f\"Epoch: {args[0]}, val: {args[1]}\")"
   ]
  },
  {
   "cell_type": "code",
   "execution_count": null,
   "id": "5fa990d9",
   "metadata": {},
   "outputs": [],
   "source": [
    "slow_calculation(PrintStatusCallback())"
   ]
  },
  {
   "cell_type": "code",
   "execution_count": null,
   "id": "b5e48ce8",
   "metadata": {},
   "outputs": [],
   "source": [
    "class SlowCalculator():\n",
    "    def __init__(self, cb=None):\n",
    "        self.cb,self.res = cb, 0\n",
    "        \n",
    "    def callback(self, cb_name, *args):\n",
    "        if not self.cb:\n",
    "            return\n",
    "        cb = getattr(self.cb, cb_name, None)\n",
    "        if cb: return cb(self, *args)\n",
    "    \n",
    "    def calc(self):\n",
    "        for i in range(5):\n",
    "            self.callback('before_calc', i)\n",
    "            self.res += i * i\n",
    "            sleep(1)\n",
    "            if self.callback('after_calc', i):\n",
    "                print('early stop')\n",
    "                break"
   ]
  },
  {
   "cell_type": "code",
   "execution_count": null,
   "id": "eadb390d",
   "metadata": {},
   "outputs": [],
   "source": [
    "class ModifyingCallback():\n",
    "    def after_calc(self, calc, epoch):\n",
    "        print(f'After {epoch}: {calc.res}')\n",
    "        if calc.res > 10:\n",
    "            return True\n",
    "        if calc.res < 3:\n",
    "            calc.res = calc.res * 2\n",
    "        "
   ]
  },
  {
   "cell_type": "code",
   "execution_count": null,
   "id": "7aea88ed",
   "metadata": {},
   "outputs": [],
   "source": [
    "c = SlowCalculator(ModifyingCallback())"
   ]
  },
  {
   "cell_type": "code",
   "execution_count": null,
   "id": "4b3ec1a3",
   "metadata": {},
   "outputs": [],
   "source": [
    "c.calc()"
   ]
  },
  {
   "cell_type": "code",
   "execution_count": null,
   "id": "1c1e8fcf",
   "metadata": {},
   "outputs": [],
   "source": [
    "c.res"
   ]
  },
  {
   "cell_type": "code",
   "execution_count": null,
   "id": "ddbbcbd1",
   "metadata": {},
   "outputs": [],
   "source": [
    "getattr(c, 'calc')()"
   ]
  },
  {
   "cell_type": "code",
   "execution_count": null,
   "id": "4fa61c64",
   "metadata": {},
   "outputs": [],
   "source": [
    "class SloppyAdder():\n",
    "    def __init__(self, o): self.o=o\n",
    "    def __add__(self, s): return SloppyAdder(self.o + s.o + 0.01)\n",
    "    def __repr__(self): return str(self.o)"
   ]
  },
  {
   "cell_type": "code",
   "execution_count": null,
   "id": "685903b0",
   "metadata": {},
   "outputs": [],
   "source": [
    "s1 = SloppyAdder(1)\n",
    "s2 = SloppyAdder(2)\n",
    "s1+s2"
   ]
  },
  {
   "cell_type": "code",
   "execution_count": null,
   "id": "7f7d1709",
   "metadata": {},
   "outputs": [],
   "source": [
    "class B:\n",
    "    a,b=1,2\n",
    "    def __getattr__(self, k):\n",
    "        if k[0]=='_': raise AttributeError(k)\n",
    "        return f'Hello {k}'\n",
    "    \n",
    "    def abcd(self):\n",
    "        return 'abcd'"
   ]
  },
  {
   "cell_type": "code",
   "execution_count": null,
   "id": "85072ce3",
   "metadata": {},
   "outputs": [],
   "source": [
    "b = B()"
   ]
  },
  {
   "cell_type": "code",
   "execution_count": null,
   "id": "8879c1f2",
   "metadata": {},
   "outputs": [],
   "source": [
    "b.a"
   ]
  },
  {
   "cell_type": "code",
   "execution_count": null,
   "id": "a15d8c27",
   "metadata": {},
   "outputs": [],
   "source": [
    "b.foo"
   ]
  },
  {
   "cell_type": "code",
   "execution_count": null,
   "id": "3a95004e",
   "metadata": {},
   "outputs": [],
   "source": [
    "getattr(b, 'a')"
   ]
  },
  {
   "cell_type": "code",
   "execution_count": null,
   "id": "3ce0751f",
   "metadata": {},
   "outputs": [],
   "source": [
    "getattr(b, 'abc')"
   ]
  },
  {
   "cell_type": "code",
   "execution_count": null,
   "id": "c2badeed",
   "metadata": {},
   "outputs": [],
   "source": [
    "b.abcd()"
   ]
  },
  {
   "cell_type": "code",
   "execution_count": null,
   "id": "36e45859",
   "metadata": {},
   "outputs": [],
   "source": [
    "hasattr(b, 'abcd')"
   ]
  },
  {
   "cell_type": "code",
   "execution_count": null,
   "id": "becf8b6e",
   "metadata": {},
   "outputs": [],
   "source": [
    "getattr(b, 'a')"
   ]
  },
  {
   "cell_type": "code",
   "execution_count": null,
   "id": "6be8649e",
   "metadata": {},
   "outputs": [],
   "source": [
    "getattr(b, 'b')"
   ]
  },
  {
   "cell_type": "code",
   "execution_count": null,
   "id": "240399d3",
   "metadata": {},
   "outputs": [],
   "source": [
    "getattr(b, 'abc')"
   ]
  },
  {
   "cell_type": "code",
   "execution_count": null,
   "id": "29908875",
   "metadata": {},
   "outputs": [],
   "source": []
  }
 ],
 "metadata": {
  "kernelspec": {
   "display_name": "Python 3 (ipykernel)",
   "language": "python",
   "name": "python3"
  },
  "language_info": {
   "codemirror_mode": {
    "name": "ipython",
    "version": 3
   },
   "file_extension": ".py",
   "mimetype": "text/x-python",
   "name": "python",
   "nbconvert_exporter": "python",
   "pygments_lexer": "ipython3",
   "version": "3.10.14"
  }
 },
 "nbformat": 4,
 "nbformat_minor": 5
}
