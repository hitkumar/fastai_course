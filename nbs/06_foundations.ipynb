{
 "cells": [
  {
   "cell_type": "markdown",
   "id": "5792ea2d",
   "metadata": {},
   "source": [
    "#### concepts to know about\n",
    "- partial\n",
    "- __call__ for classes\n",
    "- *args and **kwargs\n",
    "- callbacks\n",
    "- __dunder__ thingies"
   ]
  },
  {
   "cell_type": "code",
   "execution_count": 1,
   "id": "2faf5d23",
   "metadata": {},
   "outputs": [],
   "source": [
    "import torch\n",
    "import matplotlib.pyplot as plt\n",
    "import random"
   ]
  },
  {
   "cell_type": "markdown",
   "id": "4ab12597",
   "metadata": {},
   "source": [
    "### Callbacks"
   ]
  },
  {
   "cell_type": "code",
   "execution_count": 2,
   "id": "0cdf96e3",
   "metadata": {},
   "outputs": [],
   "source": [
    "import ipywidgets as widgets"
   ]
  },
  {
   "cell_type": "code",
   "execution_count": 3,
   "id": "5a0c0966",
   "metadata": {},
   "outputs": [],
   "source": [
    "w = widgets.Button(description='Click me')"
   ]
  },
  {
   "cell_type": "code",
   "execution_count": 4,
   "id": "7ca93dfc",
   "metadata": {},
   "outputs": [],
   "source": [
    "def f(o): print('hi')"
   ]
  },
  {
   "cell_type": "code",
   "execution_count": 5,
   "id": "d8807c7d",
   "metadata": {},
   "outputs": [],
   "source": [
    "w.on_click(f)"
   ]
  },
  {
   "cell_type": "code",
   "execution_count": 6,
   "id": "a7a7e7d3",
   "metadata": {},
   "outputs": [
    {
     "data": {
      "application/vnd.jupyter.widget-view+json": {
       "model_id": "f7ce5609f43547478b31cf3518f1228d",
       "version_major": 2,
       "version_minor": 0
      },
      "text/plain": [
       "Button(description='Click me', style=ButtonStyle())"
      ]
     },
     "execution_count": 6,
     "metadata": {},
     "output_type": "execute_result"
    }
   ],
   "source": [
    "w"
   ]
  },
  {
   "cell_type": "code",
   "execution_count": 7,
   "id": "18bc312b",
   "metadata": {},
   "outputs": [
    {
     "name": "stdout",
     "output_type": "stream",
     "text": [
      "hi\n"
     ]
    }
   ],
   "source": [
    "w.click()"
   ]
  },
  {
   "cell_type": "code",
   "execution_count": 8,
   "id": "8c4bfb7b",
   "metadata": {},
   "outputs": [],
   "source": [
    "from time import sleep"
   ]
  },
  {
   "cell_type": "code",
   "execution_count": 9,
   "id": "e4d951c5",
   "metadata": {},
   "outputs": [],
   "source": [
    "def slow_calculation():\n",
    "    res = 0\n",
    "    for i in range(5):\n",
    "        res += i*i\n",
    "        sleep(1)\n",
    "    return res"
   ]
  },
  {
   "cell_type": "code",
   "execution_count": 10,
   "id": "275fe031",
   "metadata": {},
   "outputs": [
    {
     "data": {
      "text/plain": [
       "30"
      ]
     },
     "execution_count": 10,
     "metadata": {},
     "output_type": "execute_result"
    }
   ],
   "source": [
    "slow_calculation()"
   ]
  },
  {
   "cell_type": "code",
   "execution_count": 11,
   "id": "b5f005f3",
   "metadata": {},
   "outputs": [],
   "source": [
    "def slow_calculation(cb=None):\n",
    "    res = 0\n",
    "    for i in range(5):\n",
    "        res += i*i\n",
    "        sleep(1)\n",
    "        if cb:\n",
    "            cb(i)\n",
    "    return res"
   ]
  },
  {
   "cell_type": "code",
   "execution_count": 12,
   "id": "f78a1b43",
   "metadata": {},
   "outputs": [],
   "source": [
    "def show_progress(epoch):\n",
    "    print(f'Awesome! Epoch: {epoch}')"
   ]
  },
  {
   "cell_type": "code",
   "execution_count": 13,
   "id": "aa88223e",
   "metadata": {},
   "outputs": [
    {
     "name": "stdout",
     "output_type": "stream",
     "text": [
      "Awesome! Epoch: 0\n",
      "Awesome! Epoch: 1\n",
      "Awesome! Epoch: 2\n",
      "Awesome! Epoch: 3\n",
      "Awesome! Epoch: 4\n"
     ]
    },
    {
     "data": {
      "text/plain": [
       "30"
      ]
     },
     "execution_count": 13,
     "metadata": {},
     "output_type": "execute_result"
    }
   ],
   "source": [
    "slow_calculation(show_progress)"
   ]
  },
  {
   "cell_type": "code",
   "execution_count": 14,
   "id": "ea03e4e9",
   "metadata": {},
   "outputs": [
    {
     "name": "stdout",
     "output_type": "stream",
     "text": [
      "Awesome! Epoch: 0\n",
      "Awesome! Epoch: 1\n",
      "Awesome! Epoch: 2\n",
      "Awesome! Epoch: 3\n",
      "Awesome! Epoch: 4\n"
     ]
    },
    {
     "data": {
      "text/plain": [
       "30"
      ]
     },
     "execution_count": 14,
     "metadata": {},
     "output_type": "execute_result"
    }
   ],
   "source": [
    "slow_calculation(lambda epoch: print(f'Awesome! Epoch: {epoch}'))"
   ]
  },
  {
   "cell_type": "code",
   "execution_count": 15,
   "id": "5ef93542",
   "metadata": {},
   "outputs": [],
   "source": [
    "def show_progress(exclamation, epoch):\n",
    "    print(f'Awesome! {exclamation}, epoch: {epoch}')"
   ]
  },
  {
   "cell_type": "code",
   "execution_count": 16,
   "id": "28a91cb2",
   "metadata": {},
   "outputs": [
    {
     "name": "stdout",
     "output_type": "stream",
     "text": [
      "Awesome! Job, epoch: 0\n",
      "Awesome! Job, epoch: 1\n",
      "Awesome! Job, epoch: 2\n",
      "Awesome! Job, epoch: 3\n",
      "Awesome! Job, epoch: 4\n"
     ]
    },
    {
     "data": {
      "text/plain": [
       "30"
      ]
     },
     "execution_count": 16,
     "metadata": {},
     "output_type": "execute_result"
    }
   ],
   "source": [
    "slow_calculation(lambda epoch: show_progress('Job', epoch))"
   ]
  },
  {
   "cell_type": "code",
   "execution_count": 17,
   "id": "b29ad961",
   "metadata": {},
   "outputs": [],
   "source": [
    "def f(a, b, c):\n",
    "    print(a, b, c)"
   ]
  },
  {
   "cell_type": "code",
   "execution_count": 18,
   "id": "01702ff4",
   "metadata": {},
   "outputs": [],
   "source": [
    "from functools import partial"
   ]
  },
  {
   "cell_type": "code",
   "execution_count": 19,
   "id": "d8f54470",
   "metadata": {},
   "outputs": [
    {
     "name": "stdout",
     "output_type": "stream",
     "text": [
      "1 2 3\n"
     ]
    }
   ],
   "source": [
    "f(1, 2, 3)"
   ]
  },
  {
   "cell_type": "code",
   "execution_count": 20,
   "id": "96f3144d",
   "metadata": {},
   "outputs": [],
   "source": [
    "g = partial(f, 1, 2)"
   ]
  },
  {
   "cell_type": "code",
   "execution_count": 21,
   "id": "ba73d036",
   "metadata": {},
   "outputs": [
    {
     "name": "stdout",
     "output_type": "stream",
     "text": [
      "1 2 3\n"
     ]
    }
   ],
   "source": [
    "g(3)"
   ]
  },
  {
   "cell_type": "code",
   "execution_count": 22,
   "id": "fcc3de0b",
   "metadata": {},
   "outputs": [],
   "source": [
    "def make_show_progress(exclamation):\n",
    "    def _inner(epoch):\n",
    "        print(f'Awesome job {exclamation}, epoch: {epoch}')\n",
    "    return _inner"
   ]
  },
  {
   "cell_type": "code",
   "execution_count": 23,
   "id": "4cf747e7",
   "metadata": {},
   "outputs": [
    {
     "name": "stdout",
     "output_type": "stream",
     "text": [
      "Awesome job Nice, epoch: 0\n",
      "Awesome job Nice, epoch: 1\n",
      "Awesome job Nice, epoch: 2\n",
      "Awesome job Nice, epoch: 3\n",
      "Awesome job Nice, epoch: 4\n"
     ]
    },
    {
     "data": {
      "text/plain": [
       "30"
      ]
     },
     "execution_count": 23,
     "metadata": {},
     "output_type": "execute_result"
    }
   ],
   "source": [
    "slow_calculation(make_show_progress(\"Nice\"))"
   ]
  },
  {
   "cell_type": "code",
   "execution_count": 24,
   "id": "4de13ce6",
   "metadata": {},
   "outputs": [
    {
     "name": "stdout",
     "output_type": "stream",
     "text": [
      "Awesome! Nice, epoch: 0\n",
      "Awesome! Nice, epoch: 1\n",
      "Awesome! Nice, epoch: 2\n",
      "Awesome! Nice, epoch: 3\n",
      "Awesome! Nice, epoch: 4\n"
     ]
    },
    {
     "data": {
      "text/plain": [
       "30"
      ]
     },
     "execution_count": 24,
     "metadata": {},
     "output_type": "execute_result"
    }
   ],
   "source": [
    "slow_calculation(partial(show_progress, 'Nice'))"
   ]
  },
  {
   "cell_type": "markdown",
   "id": "f622da82",
   "metadata": {},
   "source": [
    "### Callbacks as callable classes"
   ]
  },
  {
   "cell_type": "code",
   "execution_count": 25,
   "id": "cfc4654b",
   "metadata": {},
   "outputs": [],
   "source": [
    "class ProgressShowingCallback():\n",
    "    def __init__(self, exclamation): self.exclamation = exclamation\n",
    "    def __call__(self, epoch):\n",
    "        print(f'Awesome! {self.exclamation}, epoch: {epoch}')"
   ]
  },
  {
   "cell_type": "code",
   "execution_count": 26,
   "id": "2448b117",
   "metadata": {},
   "outputs": [],
   "source": [
    "cb = ProgressShowingCallback(\"Nice\")"
   ]
  },
  {
   "cell_type": "code",
   "execution_count": 27,
   "id": "c829f20d",
   "metadata": {},
   "outputs": [
    {
     "name": "stdout",
     "output_type": "stream",
     "text": [
      "Awesome! Nice, epoch: 1\n"
     ]
    }
   ],
   "source": [
    "cb(1)"
   ]
  },
  {
   "cell_type": "code",
   "execution_count": 28,
   "id": "c1384004",
   "metadata": {},
   "outputs": [
    {
     "name": "stdout",
     "output_type": "stream",
     "text": [
      "Awesome! Nice, epoch: 0\n",
      "Awesome! Nice, epoch: 1\n",
      "Awesome! Nice, epoch: 2\n",
      "Awesome! Nice, epoch: 3\n",
      "Awesome! Nice, epoch: 4\n"
     ]
    },
    {
     "data": {
      "text/plain": [
       "30"
      ]
     },
     "execution_count": 28,
     "metadata": {},
     "output_type": "execute_result"
    }
   ],
   "source": [
    "slow_calculation(cb)"
   ]
  },
  {
   "cell_type": "markdown",
   "id": "ce373cae",
   "metadata": {},
   "source": [
    "### Multiple callback funcs; *args and **kwargs"
   ]
  },
  {
   "cell_type": "code",
   "execution_count": 29,
   "id": "fc6e131d",
   "metadata": {},
   "outputs": [],
   "source": [
    "def f(*args, **kwargs):\n",
    "    # print(type(args), type(kwargs))\n",
    "    print(f\"args: {args}, kwargs: {kwargs}\")"
   ]
  },
  {
   "cell_type": "code",
   "execution_count": 30,
   "id": "d19e0bf2",
   "metadata": {},
   "outputs": [
    {
     "name": "stdout",
     "output_type": "stream",
     "text": [
      "args: (3, 'a'), kwargs: {'thing1': 'hello'}\n"
     ]
    }
   ],
   "source": [
    "f(3, 'a', thing1='hello')"
   ]
  },
  {
   "cell_type": "code",
   "execution_count": 31,
   "id": "9833e9a4",
   "metadata": {},
   "outputs": [],
   "source": [
    "def g(a, b, c=0):\n",
    "    print(a, b, c)"
   ]
  },
  {
   "cell_type": "code",
   "execution_count": 32,
   "id": "622df3fe",
   "metadata": {},
   "outputs": [
    {
     "name": "stdout",
     "output_type": "stream",
     "text": [
      "1 2 3\n"
     ]
    }
   ],
   "source": [
    "args=[1,2]\n",
    "kwargs={'c': 3}\n",
    "g(*args, **kwargs)"
   ]
  },
  {
   "cell_type": "markdown",
   "id": "08a6ec0d",
   "metadata": {},
   "source": [
    "- Passing args and kwargs\n",
    "- Functions which accept these as params\n",
    "- Can be used to abosrb all the unused args as well"
   ]
  },
  {
   "cell_type": "code",
   "execution_count": 33,
   "id": "ef34d6e0",
   "metadata": {},
   "outputs": [],
   "source": [
    "def slow_calculation(cb=None):\n",
    "    res = 0\n",
    "    for i in range(5):\n",
    "        if cb: cb.before_calc(i)\n",
    "        res += i*i\n",
    "        sleep(1)\n",
    "        if cb: cb.after_calc(i, res)\n",
    "    \n",
    "    return res"
   ]
  },
  {
   "cell_type": "code",
   "execution_count": 34,
   "id": "a49255d5",
   "metadata": {},
   "outputs": [],
   "source": [
    "class PrintStepCallback():\n",
    "    def before_calc(self, *args, **kwargs): print('About to start')\n",
    "    def after_calc(self, *args, **kwarfs): print('Done')"
   ]
  },
  {
   "cell_type": "code",
   "execution_count": 35,
   "id": "491402ff",
   "metadata": {},
   "outputs": [
    {
     "name": "stdout",
     "output_type": "stream",
     "text": [
      "About to start\n",
      "Done\n",
      "About to start\n",
      "Done\n",
      "About to start\n",
      "Done\n",
      "About to start\n",
      "Done\n",
      "About to start\n",
      "Done\n"
     ]
    },
    {
     "data": {
      "text/plain": [
       "30"
      ]
     },
     "execution_count": 35,
     "metadata": {},
     "output_type": "execute_result"
    }
   ],
   "source": [
    "slow_calculation(PrintStepCallback())"
   ]
  },
  {
   "cell_type": "code",
   "execution_count": 36,
   "id": "444bdcb4",
   "metadata": {},
   "outputs": [],
   "source": [
    "class PrintStatusCallback():\n",
    "    def before_calc(self, *args, **kwargs): print('About to start')\n",
    "    def after_calc(self, *args, **kwargs): print(f\"Epoch: {args[0]}, val: {args[1]}\")"
   ]
  },
  {
   "cell_type": "code",
   "execution_count": 37,
   "id": "5fa990d9",
   "metadata": {},
   "outputs": [
    {
     "name": "stdout",
     "output_type": "stream",
     "text": [
      "About to start\n",
      "Epoch: 0, val: 0\n",
      "About to start\n",
      "Epoch: 1, val: 1\n",
      "About to start\n",
      "Epoch: 2, val: 5\n",
      "About to start\n",
      "Epoch: 3, val: 14\n",
      "About to start\n",
      "Epoch: 4, val: 30\n"
     ]
    },
    {
     "data": {
      "text/plain": [
       "30"
      ]
     },
     "execution_count": 37,
     "metadata": {},
     "output_type": "execute_result"
    }
   ],
   "source": [
    "slow_calculation(PrintStatusCallback())"
   ]
  },
  {
   "cell_type": "code",
   "execution_count": 38,
   "id": "b5e48ce8",
   "metadata": {},
   "outputs": [],
   "source": [
    "class SlowCalculator():\n",
    "    def __init__(self, cb=None):\n",
    "        self.cb,self.res = cb, 0\n",
    "        \n",
    "    def callback(self, cb_name, *args):\n",
    "        if not self.cb:\n",
    "            return\n",
    "        cb = getattr(self.cb, cb_name, None)\n",
    "        if cb: return cb(self, *args)\n",
    "    \n",
    "    def calc(self):\n",
    "        for i in range(5):\n",
    "            self.callback('before_calc', i)\n",
    "            self.res += i * i\n",
    "            sleep(1)\n",
    "            if self.callback('after_calc', i):\n",
    "                print('early stop')\n",
    "                break"
   ]
  },
  {
   "cell_type": "code",
   "execution_count": 39,
   "id": "eadb390d",
   "metadata": {},
   "outputs": [],
   "source": [
    "class ModifyingCallback():\n",
    "    def after_calc(self, calc, epoch):\n",
    "        print(f'After {epoch}: {calc.res}')\n",
    "        if calc.res > 10:\n",
    "            return True\n",
    "        if calc.res < 3:\n",
    "            calc.res = calc.res * 2\n",
    "        "
   ]
  },
  {
   "cell_type": "code",
   "execution_count": 40,
   "id": "7aea88ed",
   "metadata": {},
   "outputs": [],
   "source": [
    "c = SlowCalculator(ModifyingCallback())"
   ]
  },
  {
   "cell_type": "code",
   "execution_count": 41,
   "id": "4b3ec1a3",
   "metadata": {},
   "outputs": [
    {
     "name": "stdout",
     "output_type": "stream",
     "text": [
      "After 0: 0\n",
      "After 1: 1\n",
      "After 2: 6\n",
      "After 3: 15\n",
      "early stop\n"
     ]
    }
   ],
   "source": [
    "c.calc()"
   ]
  },
  {
   "cell_type": "code",
   "execution_count": 42,
   "id": "1c1e8fcf",
   "metadata": {},
   "outputs": [
    {
     "data": {
      "text/plain": [
       "15"
      ]
     },
     "execution_count": 42,
     "metadata": {},
     "output_type": "execute_result"
    }
   ],
   "source": [
    "c.res"
   ]
  },
  {
   "cell_type": "code",
   "execution_count": 43,
   "id": "ddbbcbd1",
   "metadata": {},
   "outputs": [
    {
     "name": "stdout",
     "output_type": "stream",
     "text": [
      "After 0: 15\n",
      "early stop\n"
     ]
    }
   ],
   "source": [
    "getattr(c, 'calc')()"
   ]
  },
  {
   "cell_type": "code",
   "execution_count": 44,
   "id": "4fa61c64",
   "metadata": {},
   "outputs": [],
   "source": [
    "class SloppyAdder():\n",
    "    def __init__(self, o): self.o=o\n",
    "    def __add__(self, s): return SloppyAdder(self.o + s.o + 0.01)\n",
    "    def __repr__(self): return str(self.o)"
   ]
  },
  {
   "cell_type": "code",
   "execution_count": 45,
   "id": "685903b0",
   "metadata": {},
   "outputs": [
    {
     "data": {
      "text/plain": [
       "3.01"
      ]
     },
     "execution_count": 45,
     "metadata": {},
     "output_type": "execute_result"
    }
   ],
   "source": [
    "s1 = SloppyAdder(1)\n",
    "s2 = SloppyAdder(2)\n",
    "s1+s2"
   ]
  },
  {
   "cell_type": "code",
   "execution_count": 46,
   "id": "7f7d1709",
   "metadata": {},
   "outputs": [],
   "source": [
    "class B:\n",
    "    a,b=1,2\n",
    "    def __getattr__(self, k):\n",
    "        if k[0]=='_': raise AttributeError(k)\n",
    "        return f'Hello {k}'\n",
    "    \n",
    "    def abcd(self):\n",
    "        return 'abcd'"
   ]
  },
  {
   "cell_type": "code",
   "execution_count": 47,
   "id": "85072ce3",
   "metadata": {},
   "outputs": [],
   "source": [
    "b = B()"
   ]
  },
  {
   "cell_type": "code",
   "execution_count": 48,
   "id": "8879c1f2",
   "metadata": {},
   "outputs": [
    {
     "data": {
      "text/plain": [
       "1"
      ]
     },
     "execution_count": 48,
     "metadata": {},
     "output_type": "execute_result"
    }
   ],
   "source": [
    "b.a"
   ]
  },
  {
   "cell_type": "code",
   "execution_count": 49,
   "id": "a15d8c27",
   "metadata": {},
   "outputs": [
    {
     "data": {
      "text/plain": [
       "'Hello foo'"
      ]
     },
     "execution_count": 49,
     "metadata": {},
     "output_type": "execute_result"
    }
   ],
   "source": [
    "b.foo"
   ]
  },
  {
   "cell_type": "code",
   "execution_count": 50,
   "id": "3a95004e",
   "metadata": {},
   "outputs": [
    {
     "data": {
      "text/plain": [
       "1"
      ]
     },
     "execution_count": 50,
     "metadata": {},
     "output_type": "execute_result"
    }
   ],
   "source": [
    "getattr(b, 'a')"
   ]
  },
  {
   "cell_type": "code",
   "execution_count": 51,
   "id": "3ce0751f",
   "metadata": {},
   "outputs": [
    {
     "data": {
      "text/plain": [
       "'Hello abc'"
      ]
     },
     "execution_count": 51,
     "metadata": {},
     "output_type": "execute_result"
    }
   ],
   "source": [
    "getattr(b, 'abc')"
   ]
  },
  {
   "cell_type": "code",
   "execution_count": 52,
   "id": "c2badeed",
   "metadata": {},
   "outputs": [
    {
     "data": {
      "text/plain": [
       "'abcd'"
      ]
     },
     "execution_count": 52,
     "metadata": {},
     "output_type": "execute_result"
    }
   ],
   "source": [
    "b.abcd()"
   ]
  },
  {
   "cell_type": "code",
   "execution_count": 53,
   "id": "36e45859",
   "metadata": {},
   "outputs": [
    {
     "data": {
      "text/plain": [
       "True"
      ]
     },
     "execution_count": 53,
     "metadata": {},
     "output_type": "execute_result"
    }
   ],
   "source": [
    "hasattr(b, 'abcd')"
   ]
  },
  {
   "cell_type": "code",
   "execution_count": 54,
   "id": "becf8b6e",
   "metadata": {},
   "outputs": [
    {
     "data": {
      "text/plain": [
       "1"
      ]
     },
     "execution_count": 54,
     "metadata": {},
     "output_type": "execute_result"
    }
   ],
   "source": [
    "getattr(b, 'a')"
   ]
  },
  {
   "cell_type": "code",
   "execution_count": 55,
   "id": "6be8649e",
   "metadata": {},
   "outputs": [
    {
     "data": {
      "text/plain": [
       "2"
      ]
     },
     "execution_count": 55,
     "metadata": {},
     "output_type": "execute_result"
    }
   ],
   "source": [
    "getattr(b, 'b')"
   ]
  },
  {
   "cell_type": "code",
   "execution_count": 56,
   "id": "240399d3",
   "metadata": {},
   "outputs": [
    {
     "data": {
      "text/plain": [
       "'Hello abc'"
      ]
     },
     "execution_count": 56,
     "metadata": {},
     "output_type": "execute_result"
    }
   ],
   "source": [
    "getattr(b, 'abc')"
   ]
  },
  {
   "cell_type": "code",
   "execution_count": null,
   "id": "29908875",
   "metadata": {},
   "outputs": [],
   "source": []
  }
 ],
 "metadata": {
  "kernelspec": {
   "display_name": "Python 3 (ipykernel)",
   "language": "python",
   "name": "python3"
  },
  "language_info": {
   "codemirror_mode": {
    "name": "ipython",
    "version": 3
   },
   "file_extension": ".py",
   "mimetype": "text/x-python",
   "name": "python",
   "nbconvert_exporter": "python",
   "pygments_lexer": "ipython3",
   "version": "3.10.14"
  }
 },
 "nbformat": 4,
 "nbformat_minor": 5
}
